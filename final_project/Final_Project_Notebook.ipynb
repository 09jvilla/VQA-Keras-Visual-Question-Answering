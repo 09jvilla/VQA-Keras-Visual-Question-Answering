{
 "cells": [
  {
   "cell_type": "markdown",
   "metadata": {},
   "source": [
    "# CS230 Project\n",
    "# Deep Learning for VQA: Visual Question Answering\n",
    "\n",
    "Stephanie Do <br> Alona King <br> Jennifer Villa"
   ]
  },
  {
   "cell_type": "markdown",
   "metadata": {},
   "source": [
    "## Introduction"
   ]
  },
  {
   "cell_type": "markdown",
   "metadata": {},
   "source": [
    "Our project explores the challenge of visual question answering (VQA) -- given an image and an open ended question concerning the image, build a model that returns a correct answer. This topic requires synthesizing both visual and language modalities, and combining the two to produce a natural language answer, making it more challenging than traditional image classification. VQA challenges researchers to create networks with a more sophisticated level of understanding that could ultimately be used to help robots or drones navigate their environment. These networks could also give visually impaired people a more rich description of a scene, or be used for better image or product search within a database.\n"
   ]
  },
  {
   "cell_type": "markdown",
   "metadata": {},
   "source": [
    "## Dataset Description\n",
    "For this project, we used the VQA v1.0 dataset, focusing on real images and open ended question answering. \n",
    "\n",
    "<br> The VQA 1.0 dataset is a collection of 82,783 MS COCO training images, 40,504 MS COCO validation images and 81,434 MS COCO testing images. Each image has 2-3 associated questions, for a total of 248,349 questions for training, 121,512 questions for validation and 244,302 questions for testing. Each question is associated with 10 ground truth answers, corresponding to the answers of 10 different human respondents when asked given the image-question pair. The dataset also includes a field identifying the most frequent ground truth answer of this set. <br>\n",
    "\n",
    "<br> There is a VQA 2.0 dataset that has been released, which utilizes the same set of MSCOCO images, but has more questions per image (443K total questions, as compared to 248K). Due to constraints on training time, we decided to use the VQA 1.0 dataset because it is about half the size.  <br>\n",
    "\n",
    "<br> Questions are broken into 3 sub-groups, based on their answer types: \"yes/no\", \"number\", and \"other.\" The VQA challenge reports model accuracy for each sub-group, as well as an overall number. \n",
    "\n",
    "Examples from the VQA dataset: <br>\n",
    " <img src=\"./images_for_notebook/sample_questions.png\">"
   ]
  },
  {
   "cell_type": "markdown",
   "metadata": {},
   "source": [
    "## Loading and Manipulating the Dataset"
   ]
  },
  {
   "cell_type": "markdown",
   "metadata": {},
   "source": [
    "First begin with the necessary import statements. Please note that you need Keras, Tensorflow, and h5py installed to run this code. "
   ]
  },
  {
   "cell_type": "code",
   "execution_count": 1,
   "metadata": {},
   "outputs": [
    {
     "name": "stderr",
     "output_type": "stream",
     "text": [
      "Using TensorFlow backend.\n"
     ]
    }
   ],
   "source": [
    "from keras.layers import Dense, Activation, Dropout, LSTM, Flatten, Embedding, Merge, Input, Multiply, Concatenate, Lambda\n",
    "from keras.layers.merge import Multiply\n",
    "from keras.models import Sequential, Model\n",
    "from keras.layers.convolutional import Convolution2D, MaxPooling2D, ZeroPadding2D\n",
    "import h5py\n",
    "import os\n",
    "\n",
    "import numpy as np\n",
    "from keras.utils.np_utils import to_categorical\n",
    "import json\n",
    "\n",
    "from IPython.display import SVG\n",
    "from keras.utils.vis_utils import model_to_dot\n"
   ]
  },
  {
   "cell_type": "markdown",
   "metadata": {},
   "source": [
    "### Download the Dataset\n",
    "Rather than work off of the raw VQA v1.0 dataset, we used a preprocessed dataset available online courtesy of the [VT Vision Lab](https://github.com/VT-vision-lab). Instead of raw strings for questions, each word has been converted to an integer, which is then expanded to a 1-hot vector for multiplication with a GloVe embedding matrix. Instead of raw jpegs for images, we'll have the 4096-element embedding that results when you run the jpeg through VGG19 and look at the last fully connected layer('fc2'). <br>\n",
    "\n",
    "You will need to download the following: <br>\n",
    "1. [GloVe Embeddings](http://nlp.stanford.edu/data/glove.6B.zip)\n",
    "2. [Training Data](https://filebox.ece.vt.edu/~jiasenlu/codeRelease/vqaRelease/train_only/data_train_val.zip)\n",
    "3. [Training Annotation Data](http://visualqa.org/data/mscoco/vqa/Annotations_Train_mscoco.zip)\n",
    "4. [Validation Data](http://visualqa.org/data/mscoco/vqa/Annotations_Val_mscoco.zip)\n",
    "5. [Pre-trained Model Weights](https://drive.google.com/file/d/0B3b69xdtpDT8U2dwajNKOEhUWUU/view?usp=sharing)\n",
    "\n",
    "Having downloaded these files, create a `data` directory within the same directory you are running this notebook. Extract these zip files into this data directory so that you have the following files/directories in `data`:\n",
    "1. data_img.h5: Contains the 4096 element VGG19 embeddings for the train and test MSCOCO images\n",
    "2. data_prepro.h5: Contains the integer encoded questions, as well as answers\n",
    "3. data_prepro.json: Contains higher level data structures telling what integers map to which words, what output indices map to which answers, and the order of the jpeg images saved in data_img.h5\n",
    "4. glove.6B.300d.txt: 300 dimensional GloVe embedding data\n",
    "5. Questions_Train_mscoco/MultipleChoice_mscoco_train2014_questions.json: Contains all the questions for the training set in string form, from which the embedding matrix will be prepared. \n",
    "6. Questions_Train_mscoco/mscoco_train2014_annotations.json: Contains detailed information about each of the training set questions. Contains the 10 answers to the question given by the 10 human respondents, as well as the most common answer. \n",
    "7. validation_data/mscoco_val2014_annotations.json: Contains detailed information about each of the test (val) set questions. Contains the 10 answers to the question given by the 10 human respondents, as well as the most common answer. \n",
    "8. model_weights.h5: Model weights for model trained by initial open source implementers"
   ]
  },
  {
   "cell_type": "markdown",
   "metadata": {},
   "source": [
    "Having set up the data, we now set the following constants relating to our dataset:"
   ]
  },
  {
   "cell_type": "code",
   "execution_count": 2,
   "metadata": {},
   "outputs": [
    {
     "name": "stdout",
     "output_type": "stream",
     "text": [
      "Couldn't find ./data/ckpts so creating it.\n"
     ]
    },
    {
     "ename": "FileNotFoundError",
     "evalue": "[WinError 3] The system cannot find the path specified: './data/ckpts'",
     "output_type": "error",
     "traceback": [
      "\u001b[1;31m---------------------------------------------------------------------------\u001b[0m",
      "\u001b[1;31mFileNotFoundError\u001b[0m                         Traceback (most recent call last)",
      "\u001b[1;32m<ipython-input-2-14612f640c3a>\u001b[0m in \u001b[0;36m<module>\u001b[1;34m()\u001b[0m\n\u001b[1;32m----> 1\u001b[1;33m \u001b[1;32mfrom\u001b[0m \u001b[0mconstants\u001b[0m \u001b[1;32mimport\u001b[0m \u001b[1;33m*\u001b[0m\u001b[1;33m\u001b[0m\u001b[0m\n\u001b[0m",
      "\u001b[1;32mD:\\KerasVQA\\VQA-Keras-Visual-Question-Answering\\final_project\\constants.py\u001b[0m in \u001b[0;36m<module>\u001b[1;34m()\u001b[0m\n\u001b[0;32m     16\u001b[0m \u001b[1;32mif\u001b[0m \u001b[1;32mnot\u001b[0m \u001b[0mos\u001b[0m\u001b[1;33m.\u001b[0m\u001b[0mpath\u001b[0m\u001b[1;33m.\u001b[0m\u001b[0mexists\u001b[0m\u001b[1;33m(\u001b[0m\u001b[0mcheckpoint_dir\u001b[0m\u001b[1;33m)\u001b[0m\u001b[1;33m:\u001b[0m\u001b[1;33m\u001b[0m\u001b[0m\n\u001b[0;32m     17\u001b[0m     \u001b[0mprint\u001b[0m\u001b[1;33m(\u001b[0m\u001b[1;34m\"Couldn't find \"\u001b[0m \u001b[1;33m+\u001b[0m \u001b[0mcheckpoint_dir\u001b[0m \u001b[1;33m+\u001b[0m \u001b[1;34m\" so creating it.\"\u001b[0m\u001b[1;33m)\u001b[0m\u001b[1;33m\u001b[0m\u001b[0m\n\u001b[1;32m---> 18\u001b[1;33m     \u001b[0mos\u001b[0m\u001b[1;33m.\u001b[0m\u001b[0mmakedirs\u001b[0m\u001b[1;33m(\u001b[0m\u001b[0mcheckpoint_dir\u001b[0m\u001b[1;33m)\u001b[0m\u001b[1;33m\u001b[0m\u001b[0m\n\u001b[0m\u001b[0;32m     19\u001b[0m \u001b[1;33m\u001b[0m\u001b[0m\n\u001b[0;32m     20\u001b[0m \u001b[0mresnet_train_img\u001b[0m \u001b[1;33m=\u001b[0m \u001b[1;34m'./data_resnet/resnet_train.hdf5'\u001b[0m\u001b[1;33m\u001b[0m\u001b[0m\n",
      "\u001b[1;32mc:\\python36\\lib\\os.py\u001b[0m in \u001b[0;36mmakedirs\u001b[1;34m(name, mode, exist_ok)\u001b[0m\n\u001b[0;32m    218\u001b[0m             \u001b[1;32mreturn\u001b[0m\u001b[1;33m\u001b[0m\u001b[0m\n\u001b[0;32m    219\u001b[0m     \u001b[1;32mtry\u001b[0m\u001b[1;33m:\u001b[0m\u001b[1;33m\u001b[0m\u001b[0m\n\u001b[1;32m--> 220\u001b[1;33m         \u001b[0mmkdir\u001b[0m\u001b[1;33m(\u001b[0m\u001b[0mname\u001b[0m\u001b[1;33m,\u001b[0m \u001b[0mmode\u001b[0m\u001b[1;33m)\u001b[0m\u001b[1;33m\u001b[0m\u001b[0m\n\u001b[0m\u001b[0;32m    221\u001b[0m     \u001b[1;32mexcept\u001b[0m \u001b[0mOSError\u001b[0m\u001b[1;33m:\u001b[0m\u001b[1;33m\u001b[0m\u001b[0m\n\u001b[0;32m    222\u001b[0m         \u001b[1;31m# Cannot rely on checking for EEXIST, since the operating system\u001b[0m\u001b[1;33m\u001b[0m\u001b[1;33m\u001b[0m\u001b[0m\n",
      "\u001b[1;31mFileNotFoundError\u001b[0m: [WinError 3] The system cannot find the path specified: './data/ckpts'"
     ]
    }
   ],
   "source": [
    "from constants import *"
   ]
  },
  {
   "cell_type": "markdown",
   "metadata": {},
   "source": [
    "Next, we load the functions for preprocessing the data. These were functions taken from the published model, with some modifications for our purpose. "
   ]
  },
  {
   "cell_type": "code",
   "execution_count": 4,
   "metadata": {},
   "outputs": [
    {
     "name": "stdout",
     "output_type": "stream",
     "text": [
      "Couldn't find ./data/ckpts so creating it.\n"
     ]
    },
    {
     "ename": "FileNotFoundError",
     "evalue": "[WinError 3] The system cannot find the path specified: './data/ckpts'",
     "output_type": "error",
     "traceback": [
      "\u001b[1;31m---------------------------------------------------------------------------\u001b[0m",
      "\u001b[1;31mFileNotFoundError\u001b[0m                         Traceback (most recent call last)",
      "\u001b[1;32m<ipython-input-4-ed811fa4bf2f>\u001b[0m in \u001b[0;36m<module>\u001b[1;34m()\u001b[0m\n\u001b[1;32m----> 1\u001b[1;33m \u001b[1;32mfrom\u001b[0m \u001b[0mdata_processing\u001b[0m \u001b[1;32mimport\u001b[0m \u001b[1;33m*\u001b[0m\u001b[1;33m\u001b[0m\u001b[0m\n\u001b[0m",
      "\u001b[1;32mD:\\KerasVQA\\VQA-Keras-Visual-Question-Answering\\final_project\\data_processing.py\u001b[0m in \u001b[0;36m<module>\u001b[1;34m()\u001b[0m\n\u001b[0;32m      5\u001b[0m \u001b[1;32mfrom\u001b[0m \u001b[0mkeras\u001b[0m\u001b[1;33m.\u001b[0m\u001b[0mutils\u001b[0m\u001b[1;33m.\u001b[0m\u001b[0mnp_utils\u001b[0m \u001b[1;32mimport\u001b[0m \u001b[0mto_categorical\u001b[0m\u001b[1;33m\u001b[0m\u001b[0m\n\u001b[0;32m      6\u001b[0m \u001b[1;32mimport\u001b[0m \u001b[0mjson\u001b[0m\u001b[1;33m\u001b[0m\u001b[0m\n\u001b[1;32m----> 7\u001b[1;33m \u001b[1;32mfrom\u001b[0m \u001b[0mconstants\u001b[0m \u001b[1;32mimport\u001b[0m \u001b[1;33m*\u001b[0m\u001b[1;33m\u001b[0m\u001b[0m\n\u001b[0m\u001b[0;32m      8\u001b[0m \u001b[1;33m\u001b[0m\u001b[0m\n\u001b[0;32m      9\u001b[0m \u001b[1;32mdef\u001b[0m \u001b[0mright_align\u001b[0m\u001b[1;33m(\u001b[0m\u001b[0mseq\u001b[0m\u001b[1;33m,\u001b[0m\u001b[0mlengths\u001b[0m\u001b[1;33m)\u001b[0m\u001b[1;33m:\u001b[0m\u001b[1;33m\u001b[0m\u001b[0m\n",
      "\u001b[1;32mD:\\KerasVQA\\VQA-Keras-Visual-Question-Answering\\final_project\\constants.py\u001b[0m in \u001b[0;36m<module>\u001b[1;34m()\u001b[0m\n\u001b[0;32m     16\u001b[0m \u001b[1;32mif\u001b[0m \u001b[1;32mnot\u001b[0m \u001b[0mos\u001b[0m\u001b[1;33m.\u001b[0m\u001b[0mpath\u001b[0m\u001b[1;33m.\u001b[0m\u001b[0mexists\u001b[0m\u001b[1;33m(\u001b[0m\u001b[0mcheckpoint_dir\u001b[0m\u001b[1;33m)\u001b[0m\u001b[1;33m:\u001b[0m\u001b[1;33m\u001b[0m\u001b[0m\n\u001b[0;32m     17\u001b[0m     \u001b[0mprint\u001b[0m\u001b[1;33m(\u001b[0m\u001b[1;34m\"Couldn't find \"\u001b[0m \u001b[1;33m+\u001b[0m \u001b[0mcheckpoint_dir\u001b[0m \u001b[1;33m+\u001b[0m \u001b[1;34m\" so creating it.\"\u001b[0m\u001b[1;33m)\u001b[0m\u001b[1;33m\u001b[0m\u001b[0m\n\u001b[1;32m---> 18\u001b[1;33m     \u001b[0mos\u001b[0m\u001b[1;33m.\u001b[0m\u001b[0mmakedirs\u001b[0m\u001b[1;33m(\u001b[0m\u001b[0mcheckpoint_dir\u001b[0m\u001b[1;33m)\u001b[0m\u001b[1;33m\u001b[0m\u001b[0m\n\u001b[0m\u001b[0;32m     19\u001b[0m \u001b[1;33m\u001b[0m\u001b[0m\n\u001b[0;32m     20\u001b[0m \u001b[0mresnet_train_img\u001b[0m \u001b[1;33m=\u001b[0m \u001b[1;34m'./data_resnet/resnet_train.hdf5'\u001b[0m\u001b[1;33m\u001b[0m\u001b[0m\n",
      "\u001b[1;32mc:\\python36\\lib\\os.py\u001b[0m in \u001b[0;36mmakedirs\u001b[1;34m(name, mode, exist_ok)\u001b[0m\n\u001b[0;32m    218\u001b[0m             \u001b[1;32mreturn\u001b[0m\u001b[1;33m\u001b[0m\u001b[0m\n\u001b[0;32m    219\u001b[0m     \u001b[1;32mtry\u001b[0m\u001b[1;33m:\u001b[0m\u001b[1;33m\u001b[0m\u001b[0m\n\u001b[1;32m--> 220\u001b[1;33m         \u001b[0mmkdir\u001b[0m\u001b[1;33m(\u001b[0m\u001b[0mname\u001b[0m\u001b[1;33m,\u001b[0m \u001b[0mmode\u001b[0m\u001b[1;33m)\u001b[0m\u001b[1;33m\u001b[0m\u001b[0m\n\u001b[0m\u001b[0;32m    221\u001b[0m     \u001b[1;32mexcept\u001b[0m \u001b[0mOSError\u001b[0m\u001b[1;33m:\u001b[0m\u001b[1;33m\u001b[0m\u001b[0m\n\u001b[0;32m    222\u001b[0m         \u001b[1;31m# Cannot rely on checking for EEXIST, since the operating system\u001b[0m\u001b[1;33m\u001b[0m\u001b[1;33m\u001b[0m\u001b[0m\n",
      "\u001b[1;31mFileNotFoundError\u001b[0m: [WinError 3] The system cannot find the path specified: './data/ckpts'"
     ]
    }
   ],
   "source": [
    "from data_processing import *"
   ]
  },
  {
   "cell_type": "markdown",
   "metadata": {},
   "source": [
    "## Original Model Architecture"
   ]
  },
  {
   "cell_type": "markdown",
   "metadata": {},
   "source": [
    "We started with the original VQA model described in this [paper](https://arxiv.org/pdf/1505.00468.pdf). The model (which can be found [here](https://github.com/anantzoid/VQA-Keras-Visual-Question-Answering)) is implemented in Keras with a Tensorflow backend. \n",
    "\n",
    "The main difference from the github repo linked is that we migrated anantzoid's model to a functional Keras model from a sequential one. \n",
    "\n",
    "We also noticed that while the paper describes using a concatenation of the hidden and cell states from both LSTM hidden layers, anantzoid's implementation only uses the hidden state of the last LSTM. We left this as is originally, but later experimented with changing this to architecture described in the paper. \n",
    "\n",
    "For conciseness of the notebook, we put the code defining the model architecture in the vqa_model_vgg19_lstm_base module. "
   ]
  },
  {
   "cell_type": "markdown",
   "metadata": {},
   "source": [
    "## Architecture Overview\n",
    "\n",
    "The model has 2 inputs: 1) a image and 2) a question about that image. \n",
    "\n",
    "### Image Embedding\n",
    "\n",
    "Embeddings for the input image are taken from the last hidden layer of VGG19, which is a 4096 dimensional vector. \n",
    "\n",
    "The vector is then normalized by dividing all elements by the L2-norm. \n",
    "\n",
    "The normalized embedding is then fed to a fully connected layer with 1024 output neurons and a tanh activation function. \n",
    "\n",
    "### Question Embedding\n",
    "\n",
    "Using a previously trained GloVe embedding matrix, 300 element word2vec representations are created for each word in the question. The sequence of vectors is then fed to an LSTM with 2 hidden layers (with dropout applied). The output of this LSTM is then connected to a dense layer with 1024 output nerons and a tanh activation function. Because the embedding layer is instantiated with the trainable parameter set to false, the GloVe embedding matrix weights are not adjusted during training. \n",
    "\n",
    "### Combining the two \n",
    "\n",
    "Having created two 1024 dimensional embeddings, one for the image and one for the question, the model then merges these two. This merging is done via elementwise multiplication.\n",
    "\n",
    "The resulting 1024-element vector is then fed to a fully connected layer with 1000 output neurons and a tanh activation function. From there, it is fed to another fully connected layer with \"num_classes\" output neurons. \"num_classes\" represents the number of answers possible for the questions; each neuron maps to one answer. A softmax activation is used to reflect the fact that the final output is a probability vector whose elements sum to 1. The numerical value at any particular element in the output vector represents the probability that answer is the correct one for a particular image-question pair. The model's answer is the the answer with the max probability in the output vector. \n",
    "\n",
    "### Regularization and Dropout\n",
    "\n",
    "The model uses 50% dropout after the densely connected layers (except after the final dense layer), as well as between the 2 LSTM layers. The first iteration does not use L2 Regularization.\n",
    "\n",
    "### Loss Function\n",
    "\n",
    "The model uses \"categorical_crossentropy\" as its loss function. This corresponds to the cross entropy metric defined in class; if $\\hat{y}$ is the softmax output reflecting probabilities weightings across all Z possible answers, then $y$ is a Z dimensions vector with a '1' at the position of the ground truth answer and '0' in all other positions. Given our specific dataset, the '1' is at the position of the most frequent answer given by the 10 human respondents.\n",
    "\n",
    "The model uses RMSprop as its optimization algorithm, with default hyperparameters (this is suggested in Keras documentation). Learning rate is 0.001, $\\rho$ is 0.9 (this was $\\beta$ in our lecture videos; the weighting of the current gradient relative to the historical average), $\\epsilon=1*10^{-8}$ (this is the 'fuzz' factor to protect against divide by zero errors), and learning rate decay is 0. \n",
    "\n",
    "Later changes were made to this loss function, as described [here](#loss_function_mods). \n",
    "\n",
    "<img src=\"./images_for_notebook/basic_network.png\">"
   ]
  },
  {
   "cell_type": "markdown",
   "metadata": {},
   "source": [
    "Now we will instantiate an example of this model."
   ]
  },
  {
   "cell_type": "code",
   "execution_count": 4,
   "metadata": {},
   "outputs": [
    {
     "name": "stdout",
     "output_type": "stream",
     "text": [
      "Creating Model...\n",
      "Found matrix so no need to recompute!\n",
      "Creating functional image model...\n",
      "Creating functional text model...\n",
      "Merging final functional model...\n",
      "No model weights file specified. Skipping weight load.\n"
     ]
    }
   ],
   "source": [
    "from vgg19_lstm_base import get_model as vqa_model_vgg19_lstm_base\n",
    "\n",
    "m = vqa_model_vgg19_lstm_base(dropout_rate=0.5)"
   ]
  },
  {
   "cell_type": "markdown",
   "metadata": {},
   "source": [
    "## Visualizing the Model\n",
    "\n",
    "If you run the cell below, you'll get a Keras rendering of what the network architecture looks like."
   ]
  },
  {
   "cell_type": "code",
   "execution_count": 5,
   "metadata": {},
   "outputs": [
    {
     "data": {
      "image/svg+xml": [
       "<svg height=\"944pt\" viewBox=\"0.00 0.00 471.69 944.00\" width=\"472pt\" xmlns=\"http://www.w3.org/2000/svg\" xmlns:xlink=\"http://www.w3.org/1999/xlink\">\n",
       "<g class=\"graph\" id=\"graph0\" transform=\"scale(1 1) rotate(0) translate(4 940)\">\n",
       "<title>G</title>\n",
       "<polygon fill=\"#ffffff\" points=\"-4,4 -4,-940 467.6865,-940 467.6865,4 -4,4\" stroke=\"transparent\"/>\n",
       "<!-- 4654326336 -->\n",
       "<g class=\"node\" id=\"node1\">\n",
       "<title>4654326336</title>\n",
       "<polygon fill=\"none\" points=\"15.1758,-891.5 15.1758,-935.5 225.6865,-935.5 225.6865,-891.5 15.1758,-891.5\" stroke=\"#000000\"/>\n",
       "<text fill=\"#000000\" font-family=\"Times,serif\" font-size=\"14.00\" text-anchor=\"middle\" x=\"54.2725\" y=\"-909.3\">InputLayer</text>\n",
       "<polyline fill=\"none\" points=\"93.3691,-891.5 93.3691,-935.5 \" stroke=\"#000000\"/>\n",
       "<text fill=\"#000000\" font-family=\"Times,serif\" font-size=\"14.00\" text-anchor=\"middle\" x=\"121.2036\" y=\"-920.3\">input:</text>\n",
       "<polyline fill=\"none\" points=\"93.3691,-913.5 149.0381,-913.5 \" stroke=\"#000000\"/>\n",
       "<text fill=\"#000000\" font-family=\"Times,serif\" font-size=\"14.00\" text-anchor=\"middle\" x=\"121.2036\" y=\"-898.3\">output:</text>\n",
       "<polyline fill=\"none\" points=\"149.0381,-891.5 149.0381,-935.5 \" stroke=\"#000000\"/>\n",
       "<text fill=\"#000000\" font-family=\"Times,serif\" font-size=\"14.00\" text-anchor=\"middle\" x=\"187.3623\" y=\"-920.3\">(None, 26)</text>\n",
       "<polyline fill=\"none\" points=\"149.0381,-913.5 225.6865,-913.5 \" stroke=\"#000000\"/>\n",
       "<text fill=\"#000000\" font-family=\"Times,serif\" font-size=\"14.00\" text-anchor=\"middle\" x=\"187.3623\" y=\"-898.3\">(None, 26)</text>\n",
       "</g>\n",
       "<!-- 4654339968 -->\n",
       "<g class=\"node\" id=\"node2\">\n",
       "<title>4654339968</title>\n",
       "<polygon fill=\"none\" points=\"0,-810.5 0,-854.5 240.8623,-854.5 240.8623,-810.5 0,-810.5\" stroke=\"#000000\"/>\n",
       "<text fill=\"#000000\" font-family=\"Times,serif\" font-size=\"14.00\" text-anchor=\"middle\" x=\"40.2725\" y=\"-828.3\">Embedding</text>\n",
       "<polyline fill=\"none\" points=\"80.5449,-810.5 80.5449,-854.5 \" stroke=\"#000000\"/>\n",
       "<text fill=\"#000000\" font-family=\"Times,serif\" font-size=\"14.00\" text-anchor=\"middle\" x=\"108.3794\" y=\"-839.3\">input:</text>\n",
       "<polyline fill=\"none\" points=\"80.5449,-832.5 136.2139,-832.5 \" stroke=\"#000000\"/>\n",
       "<text fill=\"#000000\" font-family=\"Times,serif\" font-size=\"14.00\" text-anchor=\"middle\" x=\"108.3794\" y=\"-817.3\">output:</text>\n",
       "<polyline fill=\"none\" points=\"136.2139,-810.5 136.2139,-854.5 \" stroke=\"#000000\"/>\n",
       "<text fill=\"#000000\" font-family=\"Times,serif\" font-size=\"14.00\" text-anchor=\"middle\" x=\"188.5381\" y=\"-839.3\">(None, 26)</text>\n",
       "<polyline fill=\"none\" points=\"136.2139,-832.5 240.8623,-832.5 \" stroke=\"#000000\"/>\n",
       "<text fill=\"#000000\" font-family=\"Times,serif\" font-size=\"14.00\" text-anchor=\"middle\" x=\"188.5381\" y=\"-817.3\">(None, 26, 300)</text>\n",
       "</g>\n",
       "<!-- 4654326336&#45;&gt;4654339968 -->\n",
       "<g class=\"edge\" id=\"edge1\">\n",
       "<title>4654326336-&gt;4654339968</title>\n",
       "<path d=\"M120.4312,-891.3664C120.4312,-883.1516 120.4312,-873.6579 120.4312,-864.7252\" fill=\"none\" stroke=\"#000000\"/>\n",
       "<polygon fill=\"#000000\" points=\"123.9313,-864.6068 120.4312,-854.6068 116.9313,-864.6069 123.9313,-864.6068\" stroke=\"#000000\"/>\n",
       "</g>\n",
       "<!-- 4654313424 -->\n",
       "<g class=\"node\" id=\"node3\">\n",
       "<title>4654313424</title>\n",
       "<polygon fill=\"none\" points=\"13.6035,-729.5 13.6035,-773.5 227.2588,-773.5 227.2588,-729.5 13.6035,-729.5\" stroke=\"#000000\"/>\n",
       "<text fill=\"#000000\" font-family=\"Times,serif\" font-size=\"14.00\" text-anchor=\"middle\" x=\"40.2725\" y=\"-747.3\">LSTM</text>\n",
       "<polyline fill=\"none\" points=\"66.9414,-729.5 66.9414,-773.5 \" stroke=\"#000000\"/>\n",
       "<text fill=\"#000000\" font-family=\"Times,serif\" font-size=\"14.00\" text-anchor=\"middle\" x=\"94.7759\" y=\"-758.3\">input:</text>\n",
       "<polyline fill=\"none\" points=\"66.9414,-751.5 122.6104,-751.5 \" stroke=\"#000000\"/>\n",
       "<text fill=\"#000000\" font-family=\"Times,serif\" font-size=\"14.00\" text-anchor=\"middle\" x=\"94.7759\" y=\"-736.3\">output:</text>\n",
       "<polyline fill=\"none\" points=\"122.6104,-729.5 122.6104,-773.5 \" stroke=\"#000000\"/>\n",
       "<text fill=\"#000000\" font-family=\"Times,serif\" font-size=\"14.00\" text-anchor=\"middle\" x=\"174.9346\" y=\"-758.3\">(None, 26, 300)</text>\n",
       "<polyline fill=\"none\" points=\"122.6104,-751.5 227.2588,-751.5 \" stroke=\"#000000\"/>\n",
       "<text fill=\"#000000\" font-family=\"Times,serif\" font-size=\"14.00\" text-anchor=\"middle\" x=\"174.9346\" y=\"-736.3\">(None, 26, 512)</text>\n",
       "</g>\n",
       "<!-- 4654339968&#45;&gt;4654313424 -->\n",
       "<g class=\"edge\" id=\"edge2\">\n",
       "<title>4654339968-&gt;4654313424</title>\n",
       "<path d=\"M120.4312,-810.3664C120.4312,-802.1516 120.4312,-792.6579 120.4312,-783.7252\" fill=\"none\" stroke=\"#000000\"/>\n",
       "<polygon fill=\"#000000\" points=\"123.9313,-783.6068 120.4312,-773.6068 116.9313,-783.6069 123.9313,-783.6068\" stroke=\"#000000\"/>\n",
       "</g>\n",
       "<!-- 4654261640 -->\n",
       "<g class=\"node\" id=\"node4\">\n",
       "<title>4654261640</title>\n",
       "<polygon fill=\"none\" points=\"8.9414,-648.5 8.9414,-692.5 231.9209,-692.5 231.9209,-648.5 8.9414,-648.5\" stroke=\"#000000\"/>\n",
       "<text fill=\"#000000\" font-family=\"Times,serif\" font-size=\"14.00\" text-anchor=\"middle\" x=\"40.2725\" y=\"-666.3\">Dropout</text>\n",
       "<polyline fill=\"none\" points=\"71.6035,-648.5 71.6035,-692.5 \" stroke=\"#000000\"/>\n",
       "<text fill=\"#000000\" font-family=\"Times,serif\" font-size=\"14.00\" text-anchor=\"middle\" x=\"99.438\" y=\"-677.3\">input:</text>\n",
       "<polyline fill=\"none\" points=\"71.6035,-670.5 127.2725,-670.5 \" stroke=\"#000000\"/>\n",
       "<text fill=\"#000000\" font-family=\"Times,serif\" font-size=\"14.00\" text-anchor=\"middle\" x=\"99.438\" y=\"-655.3\">output:</text>\n",
       "<polyline fill=\"none\" points=\"127.2725,-648.5 127.2725,-692.5 \" stroke=\"#000000\"/>\n",
       "<text fill=\"#000000\" font-family=\"Times,serif\" font-size=\"14.00\" text-anchor=\"middle\" x=\"179.5967\" y=\"-677.3\">(None, 26, 512)</text>\n",
       "<polyline fill=\"none\" points=\"127.2725,-670.5 231.9209,-670.5 \" stroke=\"#000000\"/>\n",
       "<text fill=\"#000000\" font-family=\"Times,serif\" font-size=\"14.00\" text-anchor=\"middle\" x=\"179.5967\" y=\"-655.3\">(None, 26, 512)</text>\n",
       "</g>\n",
       "<!-- 4654313424&#45;&gt;4654261640 -->\n",
       "<g class=\"edge\" id=\"edge3\">\n",
       "<title>4654313424-&gt;4654261640</title>\n",
       "<path d=\"M120.4312,-729.3664C120.4312,-721.1516 120.4312,-711.6579 120.4312,-702.7252\" fill=\"none\" stroke=\"#000000\"/>\n",
       "<polygon fill=\"#000000\" points=\"123.9313,-702.6068 120.4312,-692.6068 116.9313,-702.6069 123.9313,-702.6068\" stroke=\"#000000\"/>\n",
       "</g>\n",
       "<!-- 4653475544 -->\n",
       "<g class=\"node\" id=\"node5\">\n",
       "<title>4653475544</title>\n",
       "<polygon fill=\"none\" points=\"13.6035,-567.5 13.6035,-611.5 227.2588,-611.5 227.2588,-567.5 13.6035,-567.5\" stroke=\"#000000\"/>\n",
       "<text fill=\"#000000\" font-family=\"Times,serif\" font-size=\"14.00\" text-anchor=\"middle\" x=\"40.2725\" y=\"-585.3\">LSTM</text>\n",
       "<polyline fill=\"none\" points=\"66.9414,-567.5 66.9414,-611.5 \" stroke=\"#000000\"/>\n",
       "<text fill=\"#000000\" font-family=\"Times,serif\" font-size=\"14.00\" text-anchor=\"middle\" x=\"94.7759\" y=\"-596.3\">input:</text>\n",
       "<polyline fill=\"none\" points=\"66.9414,-589.5 122.6104,-589.5 \" stroke=\"#000000\"/>\n",
       "<text fill=\"#000000\" font-family=\"Times,serif\" font-size=\"14.00\" text-anchor=\"middle\" x=\"94.7759\" y=\"-574.3\">output:</text>\n",
       "<polyline fill=\"none\" points=\"122.6104,-567.5 122.6104,-611.5 \" stroke=\"#000000\"/>\n",
       "<text fill=\"#000000\" font-family=\"Times,serif\" font-size=\"14.00\" text-anchor=\"middle\" x=\"174.9346\" y=\"-596.3\">(None, 26, 512)</text>\n",
       "<polyline fill=\"none\" points=\"122.6104,-589.5 227.2588,-589.5 \" stroke=\"#000000\"/>\n",
       "<text fill=\"#000000\" font-family=\"Times,serif\" font-size=\"14.00\" text-anchor=\"middle\" x=\"174.9346\" y=\"-574.3\">(None, 512)</text>\n",
       "</g>\n",
       "<!-- 4654261640&#45;&gt;4653475544 -->\n",
       "<g class=\"edge\" id=\"edge4\">\n",
       "<title>4654261640-&gt;4653475544</title>\n",
       "<path d=\"M120.4312,-648.3664C120.4312,-640.1516 120.4312,-630.6579 120.4312,-621.7252\" fill=\"none\" stroke=\"#000000\"/>\n",
       "<polygon fill=\"#000000\" points=\"123.9313,-621.6068 120.4312,-611.6068 116.9313,-621.6069 123.9313,-621.6068\" stroke=\"#000000\"/>\n",
       "</g>\n",
       "<!-- 4653336784 -->\n",
       "<g class=\"node\" id=\"node7\">\n",
       "<title>4653336784</title>\n",
       "<polygon fill=\"none\" points=\"19.4414,-486.5 19.4414,-530.5 221.4209,-530.5 221.4209,-486.5 19.4414,-486.5\" stroke=\"#000000\"/>\n",
       "<text fill=\"#000000\" font-family=\"Times,serif\" font-size=\"14.00\" text-anchor=\"middle\" x=\"50.7725\" y=\"-504.3\">Dropout</text>\n",
       "<polyline fill=\"none\" points=\"82.1035,-486.5 82.1035,-530.5 \" stroke=\"#000000\"/>\n",
       "<text fill=\"#000000\" font-family=\"Times,serif\" font-size=\"14.00\" text-anchor=\"middle\" x=\"109.938\" y=\"-515.3\">input:</text>\n",
       "<polyline fill=\"none\" points=\"82.1035,-508.5 137.7725,-508.5 \" stroke=\"#000000\"/>\n",
       "<text fill=\"#000000\" font-family=\"Times,serif\" font-size=\"14.00\" text-anchor=\"middle\" x=\"109.938\" y=\"-493.3\">output:</text>\n",
       "<polyline fill=\"none\" points=\"137.7725,-486.5 137.7725,-530.5 \" stroke=\"#000000\"/>\n",
       "<text fill=\"#000000\" font-family=\"Times,serif\" font-size=\"14.00\" text-anchor=\"middle\" x=\"179.5967\" y=\"-515.3\">(None, 512)</text>\n",
       "<polyline fill=\"none\" points=\"137.7725,-508.5 221.4209,-508.5 \" stroke=\"#000000\"/>\n",
       "<text fill=\"#000000\" font-family=\"Times,serif\" font-size=\"14.00\" text-anchor=\"middle\" x=\"179.5967\" y=\"-493.3\">(None, 512)</text>\n",
       "</g>\n",
       "<!-- 4653475544&#45;&gt;4653336784 -->\n",
       "<g class=\"edge\" id=\"edge5\">\n",
       "<title>4653475544-&gt;4653336784</title>\n",
       "<path d=\"M120.4312,-567.3664C120.4312,-559.1516 120.4312,-549.6579 120.4312,-540.7252\" fill=\"none\" stroke=\"#000000\"/>\n",
       "<polygon fill=\"#000000\" points=\"123.9313,-540.6068 120.4312,-530.6068 116.9313,-540.6069 123.9313,-540.6068\" stroke=\"#000000\"/>\n",
       "</g>\n",
       "<!-- 4654342328 -->\n",
       "<g class=\"node\" id=\"node6\">\n",
       "<title>4654342328</title>\n",
       "<polygon fill=\"none\" points=\"239.1758,-486.5 239.1758,-530.5 463.6865,-530.5 463.6865,-486.5 239.1758,-486.5\" stroke=\"#000000\"/>\n",
       "<text fill=\"#000000\" font-family=\"Times,serif\" font-size=\"14.00\" text-anchor=\"middle\" x=\"278.2725\" y=\"-504.3\">InputLayer</text>\n",
       "<polyline fill=\"none\" points=\"317.3691,-486.5 317.3691,-530.5 \" stroke=\"#000000\"/>\n",
       "<text fill=\"#000000\" font-family=\"Times,serif\" font-size=\"14.00\" text-anchor=\"middle\" x=\"345.2036\" y=\"-515.3\">input:</text>\n",
       "<polyline fill=\"none\" points=\"317.3691,-508.5 373.0381,-508.5 \" stroke=\"#000000\"/>\n",
       "<text fill=\"#000000\" font-family=\"Times,serif\" font-size=\"14.00\" text-anchor=\"middle\" x=\"345.2036\" y=\"-493.3\">output:</text>\n",
       "<polyline fill=\"none\" points=\"373.0381,-486.5 373.0381,-530.5 \" stroke=\"#000000\"/>\n",
       "<text fill=\"#000000\" font-family=\"Times,serif\" font-size=\"14.00\" text-anchor=\"middle\" x=\"418.3623\" y=\"-515.3\">(None, 4096)</text>\n",
       "<polyline fill=\"none\" points=\"373.0381,-508.5 463.6865,-508.5 \" stroke=\"#000000\"/>\n",
       "<text fill=\"#000000\" font-family=\"Times,serif\" font-size=\"14.00\" text-anchor=\"middle\" x=\"418.3623\" y=\"-493.3\">(None, 4096)</text>\n",
       "</g>\n",
       "<!-- 4654342440 -->\n",
       "<g class=\"node\" id=\"node8\">\n",
       "<title>4654342440</title>\n",
       "<polygon fill=\"none\" points=\"248.7793,-405.5 248.7793,-449.5 446.083,-449.5 446.083,-405.5 248.7793,-405.5\" stroke=\"#000000\"/>\n",
       "<text fill=\"#000000\" font-family=\"Times,serif\" font-size=\"14.00\" text-anchor=\"middle\" x=\"274.2725\" y=\"-423.3\">Dense</text>\n",
       "<polyline fill=\"none\" points=\"299.7656,-405.5 299.7656,-449.5 \" stroke=\"#000000\"/>\n",
       "<text fill=\"#000000\" font-family=\"Times,serif\" font-size=\"14.00\" text-anchor=\"middle\" x=\"327.6001\" y=\"-434.3\">input:</text>\n",
       "<polyline fill=\"none\" points=\"299.7656,-427.5 355.4346,-427.5 \" stroke=\"#000000\"/>\n",
       "<text fill=\"#000000\" font-family=\"Times,serif\" font-size=\"14.00\" text-anchor=\"middle\" x=\"327.6001\" y=\"-412.3\">output:</text>\n",
       "<polyline fill=\"none\" points=\"355.4346,-405.5 355.4346,-449.5 \" stroke=\"#000000\"/>\n",
       "<text fill=\"#000000\" font-family=\"Times,serif\" font-size=\"14.00\" text-anchor=\"middle\" x=\"400.7588\" y=\"-434.3\">(None, 4096)</text>\n",
       "<polyline fill=\"none\" points=\"355.4346,-427.5 446.083,-427.5 \" stroke=\"#000000\"/>\n",
       "<text fill=\"#000000\" font-family=\"Times,serif\" font-size=\"14.00\" text-anchor=\"middle\" x=\"400.7588\" y=\"-412.3\">(None, 1024)</text>\n",
       "</g>\n",
       "<!-- 4654342328&#45;&gt;4654342440 -->\n",
       "<g class=\"edge\" id=\"edge6\">\n",
       "<title>4654342328-&gt;4654342440</title>\n",
       "<path d=\"M350.3381,-486.3664C349.9325,-478.1516 349.4636,-468.6579 349.0225,-459.7252\" fill=\"none\" stroke=\"#000000\"/>\n",
       "<polygon fill=\"#000000\" points=\"352.5119,-459.422 348.5228,-449.6068 345.5204,-459.7673 352.5119,-459.422\" stroke=\"#000000\"/>\n",
       "</g>\n",
       "<!-- 4654293792 -->\n",
       "<g class=\"node\" id=\"node9\">\n",
       "<title>4654293792</title>\n",
       "<polygon fill=\"none\" points=\"25.7793,-405.5 25.7793,-449.5 223.083,-449.5 223.083,-405.5 25.7793,-405.5\" stroke=\"#000000\"/>\n",
       "<text fill=\"#000000\" font-family=\"Times,serif\" font-size=\"14.00\" text-anchor=\"middle\" x=\"51.2725\" y=\"-423.3\">Dense</text>\n",
       "<polyline fill=\"none\" points=\"76.7656,-405.5 76.7656,-449.5 \" stroke=\"#000000\"/>\n",
       "<text fill=\"#000000\" font-family=\"Times,serif\" font-size=\"14.00\" text-anchor=\"middle\" x=\"104.6001\" y=\"-434.3\">input:</text>\n",
       "<polyline fill=\"none\" points=\"76.7656,-427.5 132.4346,-427.5 \" stroke=\"#000000\"/>\n",
       "<text fill=\"#000000\" font-family=\"Times,serif\" font-size=\"14.00\" text-anchor=\"middle\" x=\"104.6001\" y=\"-412.3\">output:</text>\n",
       "<polyline fill=\"none\" points=\"132.4346,-405.5 132.4346,-449.5 \" stroke=\"#000000\"/>\n",
       "<text fill=\"#000000\" font-family=\"Times,serif\" font-size=\"14.00\" text-anchor=\"middle\" x=\"177.7588\" y=\"-434.3\">(None, 512)</text>\n",
       "<polyline fill=\"none\" points=\"132.4346,-427.5 223.083,-427.5 \" stroke=\"#000000\"/>\n",
       "<text fill=\"#000000\" font-family=\"Times,serif\" font-size=\"14.00\" text-anchor=\"middle\" x=\"177.7588\" y=\"-412.3\">(None, 1024)</text>\n",
       "</g>\n",
       "<!-- 4653336784&#45;&gt;4654293792 -->\n",
       "<g class=\"edge\" id=\"edge7\">\n",
       "<title>4653336784-&gt;4654293792</title>\n",
       "<path d=\"M121.5242,-486.3664C121.9298,-478.1516 122.3987,-468.6579 122.8398,-459.7252\" fill=\"none\" stroke=\"#000000\"/>\n",
       "<polygon fill=\"#000000\" points=\"126.3419,-459.7673 123.3395,-449.6068 119.3504,-459.422 126.3419,-459.7673\" stroke=\"#000000\"/>\n",
       "</g>\n",
       "<!-- 4652959672 -->\n",
       "<g class=\"node\" id=\"node10\">\n",
       "<title>4652959672</title>\n",
       "<polygon fill=\"none\" points=\"84.2827,-324.5 84.2827,-368.5 386.5796,-368.5 386.5796,-324.5 84.2827,-324.5\" stroke=\"#000000\"/>\n",
       "<text fill=\"#000000\" font-family=\"Times,serif\" font-size=\"14.00\" text-anchor=\"middle\" x=\"116.7861\" y=\"-342.3\">Multiply</text>\n",
       "<polyline fill=\"none\" points=\"149.2896,-324.5 149.2896,-368.5 \" stroke=\"#000000\"/>\n",
       "<text fill=\"#000000\" font-family=\"Times,serif\" font-size=\"14.00\" text-anchor=\"middle\" x=\"177.124\" y=\"-353.3\">input:</text>\n",
       "<polyline fill=\"none\" points=\"149.2896,-346.5 204.9585,-346.5 \" stroke=\"#000000\"/>\n",
       "<text fill=\"#000000\" font-family=\"Times,serif\" font-size=\"14.00\" text-anchor=\"middle\" x=\"177.124\" y=\"-331.3\">output:</text>\n",
       "<polyline fill=\"none\" points=\"204.9585,-324.5 204.9585,-368.5 \" stroke=\"#000000\"/>\n",
       "<text fill=\"#000000\" font-family=\"Times,serif\" font-size=\"14.00\" text-anchor=\"middle\" x=\"295.769\" y=\"-353.3\">[(None, 1024), (None, 1024)]</text>\n",
       "<polyline fill=\"none\" points=\"204.9585,-346.5 386.5796,-346.5 \" stroke=\"#000000\"/>\n",
       "<text fill=\"#000000\" font-family=\"Times,serif\" font-size=\"14.00\" text-anchor=\"middle\" x=\"295.2827\" y=\"-331.3\">(None, 1024)</text>\n",
       "</g>\n",
       "<!-- 4654342440&#45;&gt;4652959672 -->\n",
       "<g class=\"edge\" id=\"edge8\">\n",
       "<title>4654342440-&gt;4652959672</title>\n",
       "<path d=\"M316.8267,-405.3664C303.7395,-395.9016 288.3047,-384.7389 274.4136,-374.6926\" fill=\"none\" stroke=\"#000000\"/>\n",
       "<polygon fill=\"#000000\" points=\"276.1527,-371.631 265.9986,-368.6068 272.0506,-377.3031 276.1527,-371.631\" stroke=\"#000000\"/>\n",
       "</g>\n",
       "<!-- 4654293792&#45;&gt;4652959672 -->\n",
       "<g class=\"edge\" id=\"edge9\">\n",
       "<title>4654293792-&gt;4652959672</title>\n",
       "<path d=\"M154.7624,-405.3664C167.7327,-395.9016 183.0297,-384.7389 196.7968,-374.6926\" fill=\"none\" stroke=\"#000000\"/>\n",
       "<polygon fill=\"#000000\" points=\"199.1218,-377.3288 205.1366,-368.6068 194.9955,-371.6743 199.1218,-377.3288\" stroke=\"#000000\"/>\n",
       "</g>\n",
       "<!-- 4652976224 -->\n",
       "<g class=\"node\" id=\"node11\">\n",
       "<title>4652976224</title>\n",
       "<polygon fill=\"none\" points=\"130.9414,-243.5 130.9414,-287.5 339.9209,-287.5 339.9209,-243.5 130.9414,-243.5\" stroke=\"#000000\"/>\n",
       "<text fill=\"#000000\" font-family=\"Times,serif\" font-size=\"14.00\" text-anchor=\"middle\" x=\"162.2725\" y=\"-261.3\">Dropout</text>\n",
       "<polyline fill=\"none\" points=\"193.6035,-243.5 193.6035,-287.5 \" stroke=\"#000000\"/>\n",
       "<text fill=\"#000000\" font-family=\"Times,serif\" font-size=\"14.00\" text-anchor=\"middle\" x=\"221.438\" y=\"-272.3\">input:</text>\n",
       "<polyline fill=\"none\" points=\"193.6035,-265.5 249.2725,-265.5 \" stroke=\"#000000\"/>\n",
       "<text fill=\"#000000\" font-family=\"Times,serif\" font-size=\"14.00\" text-anchor=\"middle\" x=\"221.438\" y=\"-250.3\">output:</text>\n",
       "<polyline fill=\"none\" points=\"249.2725,-243.5 249.2725,-287.5 \" stroke=\"#000000\"/>\n",
       "<text fill=\"#000000\" font-family=\"Times,serif\" font-size=\"14.00\" text-anchor=\"middle\" x=\"294.5967\" y=\"-272.3\">(None, 1024)</text>\n",
       "<polyline fill=\"none\" points=\"249.2725,-265.5 339.9209,-265.5 \" stroke=\"#000000\"/>\n",
       "<text fill=\"#000000\" font-family=\"Times,serif\" font-size=\"14.00\" text-anchor=\"middle\" x=\"294.5967\" y=\"-250.3\">(None, 1024)</text>\n",
       "</g>\n",
       "<!-- 4652959672&#45;&gt;4652976224 -->\n",
       "<g class=\"edge\" id=\"edge10\">\n",
       "<title>4652959672-&gt;4652976224</title>\n",
       "<path d=\"M235.4312,-324.3664C235.4312,-316.1516 235.4312,-306.6579 235.4312,-297.7252\" fill=\"none\" stroke=\"#000000\"/>\n",
       "<polygon fill=\"#000000\" points=\"238.9313,-297.6068 235.4312,-287.6068 231.9313,-297.6069 238.9313,-297.6068\" stroke=\"#000000\"/>\n",
       "</g>\n",
       "<!-- 4652975944 -->\n",
       "<g class=\"node\" id=\"node12\">\n",
       "<title>4652975944</title>\n",
       "<polygon fill=\"none\" points=\"136.7793,-162.5 136.7793,-206.5 334.083,-206.5 334.083,-162.5 136.7793,-162.5\" stroke=\"#000000\"/>\n",
       "<text fill=\"#000000\" font-family=\"Times,serif\" font-size=\"14.00\" text-anchor=\"middle\" x=\"162.2725\" y=\"-180.3\">Dense</text>\n",
       "<polyline fill=\"none\" points=\"187.7656,-162.5 187.7656,-206.5 \" stroke=\"#000000\"/>\n",
       "<text fill=\"#000000\" font-family=\"Times,serif\" font-size=\"14.00\" text-anchor=\"middle\" x=\"215.6001\" y=\"-191.3\">input:</text>\n",
       "<polyline fill=\"none\" points=\"187.7656,-184.5 243.4346,-184.5 \" stroke=\"#000000\"/>\n",
       "<text fill=\"#000000\" font-family=\"Times,serif\" font-size=\"14.00\" text-anchor=\"middle\" x=\"215.6001\" y=\"-169.3\">output:</text>\n",
       "<polyline fill=\"none\" points=\"243.4346,-162.5 243.4346,-206.5 \" stroke=\"#000000\"/>\n",
       "<text fill=\"#000000\" font-family=\"Times,serif\" font-size=\"14.00\" text-anchor=\"middle\" x=\"288.7588\" y=\"-191.3\">(None, 1024)</text>\n",
       "<polyline fill=\"none\" points=\"243.4346,-184.5 334.083,-184.5 \" stroke=\"#000000\"/>\n",
       "<text fill=\"#000000\" font-family=\"Times,serif\" font-size=\"14.00\" text-anchor=\"middle\" x=\"288.7588\" y=\"-169.3\">(None, 1000)</text>\n",
       "</g>\n",
       "<!-- 4652976224&#45;&gt;4652975944 -->\n",
       "<g class=\"edge\" id=\"edge11\">\n",
       "<title>4652976224-&gt;4652975944</title>\n",
       "<path d=\"M235.4312,-243.3664C235.4312,-235.1516 235.4312,-225.6579 235.4312,-216.7252\" fill=\"none\" stroke=\"#000000\"/>\n",
       "<polygon fill=\"#000000\" points=\"238.9313,-216.6068 235.4312,-206.6068 231.9313,-216.6069 238.9313,-216.6068\" stroke=\"#000000\"/>\n",
       "</g>\n",
       "<!-- 4652956808 -->\n",
       "<g class=\"node\" id=\"node13\">\n",
       "<title>4652956808</title>\n",
       "<polygon fill=\"none\" points=\"130.9414,-81.5 130.9414,-125.5 339.9209,-125.5 339.9209,-81.5 130.9414,-81.5\" stroke=\"#000000\"/>\n",
       "<text fill=\"#000000\" font-family=\"Times,serif\" font-size=\"14.00\" text-anchor=\"middle\" x=\"162.2725\" y=\"-99.3\">Dropout</text>\n",
       "<polyline fill=\"none\" points=\"193.6035,-81.5 193.6035,-125.5 \" stroke=\"#000000\"/>\n",
       "<text fill=\"#000000\" font-family=\"Times,serif\" font-size=\"14.00\" text-anchor=\"middle\" x=\"221.438\" y=\"-110.3\">input:</text>\n",
       "<polyline fill=\"none\" points=\"193.6035,-103.5 249.2725,-103.5 \" stroke=\"#000000\"/>\n",
       "<text fill=\"#000000\" font-family=\"Times,serif\" font-size=\"14.00\" text-anchor=\"middle\" x=\"221.438\" y=\"-88.3\">output:</text>\n",
       "<polyline fill=\"none\" points=\"249.2725,-81.5 249.2725,-125.5 \" stroke=\"#000000\"/>\n",
       "<text fill=\"#000000\" font-family=\"Times,serif\" font-size=\"14.00\" text-anchor=\"middle\" x=\"294.5967\" y=\"-110.3\">(None, 1000)</text>\n",
       "<polyline fill=\"none\" points=\"249.2725,-103.5 339.9209,-103.5 \" stroke=\"#000000\"/>\n",
       "<text fill=\"#000000\" font-family=\"Times,serif\" font-size=\"14.00\" text-anchor=\"middle\" x=\"294.5967\" y=\"-88.3\">(None, 1000)</text>\n",
       "</g>\n",
       "<!-- 4652975944&#45;&gt;4652956808 -->\n",
       "<g class=\"edge\" id=\"edge12\">\n",
       "<title>4652975944-&gt;4652956808</title>\n",
       "<path d=\"M235.4312,-162.3664C235.4312,-154.1516 235.4312,-144.6579 235.4312,-135.7252\" fill=\"none\" stroke=\"#000000\"/>\n",
       "<polygon fill=\"#000000\" points=\"238.9313,-135.6068 235.4312,-125.6068 231.9313,-135.6069 238.9313,-135.6068\" stroke=\"#000000\"/>\n",
       "</g>\n",
       "<!-- 4652953784 -->\n",
       "<g class=\"node\" id=\"node14\">\n",
       "<title>4652953784</title>\n",
       "<polygon fill=\"none\" points=\"136.7793,-.5 136.7793,-44.5 334.083,-44.5 334.083,-.5 136.7793,-.5\" stroke=\"#000000\"/>\n",
       "<text fill=\"#000000\" font-family=\"Times,serif\" font-size=\"14.00\" text-anchor=\"middle\" x=\"162.2725\" y=\"-18.3\">Dense</text>\n",
       "<polyline fill=\"none\" points=\"187.7656,-.5 187.7656,-44.5 \" stroke=\"#000000\"/>\n",
       "<text fill=\"#000000\" font-family=\"Times,serif\" font-size=\"14.00\" text-anchor=\"middle\" x=\"215.6001\" y=\"-29.3\">input:</text>\n",
       "<polyline fill=\"none\" points=\"187.7656,-22.5 243.4346,-22.5 \" stroke=\"#000000\"/>\n",
       "<text fill=\"#000000\" font-family=\"Times,serif\" font-size=\"14.00\" text-anchor=\"middle\" x=\"215.6001\" y=\"-7.3\">output:</text>\n",
       "<polyline fill=\"none\" points=\"243.4346,-.5 243.4346,-44.5 \" stroke=\"#000000\"/>\n",
       "<text fill=\"#000000\" font-family=\"Times,serif\" font-size=\"14.00\" text-anchor=\"middle\" x=\"288.7588\" y=\"-29.3\">(None, 1000)</text>\n",
       "<polyline fill=\"none\" points=\"243.4346,-22.5 334.083,-22.5 \" stroke=\"#000000\"/>\n",
       "<text fill=\"#000000\" font-family=\"Times,serif\" font-size=\"14.00\" text-anchor=\"middle\" x=\"288.7588\" y=\"-7.3\">(None, 1000)</text>\n",
       "</g>\n",
       "<!-- 4652956808&#45;&gt;4652953784 -->\n",
       "<g class=\"edge\" id=\"edge13\">\n",
       "<title>4652956808-&gt;4652953784</title>\n",
       "<path d=\"M235.4312,-81.3664C235.4312,-73.1516 235.4312,-63.6579 235.4312,-54.7252\" fill=\"none\" stroke=\"#000000\"/>\n",
       "<polygon fill=\"#000000\" points=\"238.9313,-54.6068 235.4312,-44.6068 231.9313,-54.6069 238.9313,-54.6068\" stroke=\"#000000\"/>\n",
       "</g>\n",
       "</g>\n",
       "</svg>"
      ],
      "text/plain": [
       "<IPython.core.display.SVG object>"
      ]
     },
     "execution_count": 5,
     "metadata": {},
     "output_type": "execute_result"
    }
   ],
   "source": [
    "SVG(model_to_dot(m, show_layer_names=False, show_shapes=True).create(prog='dot', format='svg'))"
   ]
  },
  {
   "cell_type": "markdown",
   "metadata": {},
   "source": [
    "### Training and Validating the Model\n",
    "\n",
    "To train and validate the model, we define 2 functions, `train` and `val` , which take as input a model. "
   ]
  },
  {
   "cell_type": "code",
   "execution_count": 6,
   "metadata": {},
   "outputs": [],
   "source": [
    "from train_val import *"
   ]
  },
  {
   "cell_type": "markdown",
   "metadata": {},
   "source": [
    "The cell below is just a dummy test that the training is working. "
   ]
  },
  {
   "cell_type": "code",
   "execution_count": 7,
   "metadata": {},
   "outputs": [
    {
     "name": "stdout",
     "output_type": "stream",
     "text": [
      "Reading Data...\n",
      "Epoch 1/1\n",
      "4/8 [==============>...............] - ETA: 2s - loss: 6.9071 - acc: 0.0000e+00Epoch 00001: saving model to ./data/ckpts/trained_model_weights.h5\n",
      "8/8 [==============================] - 3s 416ms/step - loss: 6.8968 - acc: 0.0000e+00\n"
     ]
    }
   ],
   "source": [
    "_, his = train( epoch=1, batch_size=4, data_limit=8, model_obj=m )"
   ]
  },
  {
   "cell_type": "markdown",
   "metadata": {},
   "source": [
    "Now we train our basic model from scratch for 100 epochs. The results are summarized by the two charts below. \n",
    "\n",
    "What you see from the accuracy chart is that the training set accuracy continues to improve, but the test set accuracy quickly levels off around 44%. This suggests that there is some overfitting of the train set happening, even though our model includes dropout. As discussed in class, the next best approaches would be to apply other regularization techniques, or get more training data. If you let this model continues to 150 epochs, the training set accuracy reaches 99%, with the test set accuracy remaining flat at 44%. \n",
    "\n",
    "<img src=\"./images_for_notebook/vgg_lstm1_accuracy.png\">\n",
    "\n",
    "Interestingly, looking at the loss function, the test set loss has been increasing since about the 20th epoch. There hasn't been much of a loss in accuracy, however. This may mean that the model still outputs the same answer (the same index is still output from `argmax(output_vector)`), but there is less probability on that max value, suggesting the model is less confident. \n",
    "\n",
    "<img src =\"./images_for_notebook/vgg_lstm1_loss.png\">"
   ]
  },
  {
   "cell_type": "markdown",
   "metadata": {},
   "source": [
    "## Experiments"
   ]
  },
  {
   "cell_type": "markdown",
   "metadata": {},
   "source": [
    "Having gotten the basic model working and training, we look into ways to improve its performance. \n",
    "\n",
    "2. [Swapping out VGG19 encodings for ResNet50 encodings](#resnet)\n",
    "3. [Using a concatenation of both LSTM layer hidden outputs as part of question embedding](#concat)\n",
    "3. [Using a Different Loss Function (Soft Cross-Entropy)](#loss_function_mods) ** ---MOST SIGNIFICANT--- **\n",
    "4. [Swapping out element-wise multiplication for multimodal factorized bilinear pooling](#compact_bilinear)\n",
    "5. Trying more aggressive dropout and L2 Regularization\n",
    "6. Swapping out tanh activations for ReLU "
   ]
  },
  {
   "cell_type": "markdown",
   "metadata": {},
   "source": [
    "<a id='resnet'></a>\n",
    "### Changing Out VGG19 for ResNet50\n",
    "\n",
    "Most best-in-class VQA models (including first place in this year's competition [ [1] ](https://arxiv.org/pdf/1708.02711.pdf)) use ResNet encodings instead of VGG19. However, they generally use ResNet-101 or ResNet-152. \n",
    "\n",
    "We, however, decided to try encodings from ResNet50. Relative to VGG19, ResNet50 is far smaller (25.5M params versus 143.6M), which means it should run faster and be less memory intensive. Therefore, if we could even prove similar prediction accuracy with ResNet50, this would be an improvement, since it makes the ultimate model smaller. It was also convenient that Keras has a ResNet50 implementation that can be easily imported. \n",
    "\n",
    "We chose the penultimate layer of Resnet50, which consists of a (2048,1) embedding for a given image. Note that this is half the size of the VGG19 embedding, so we had to modify our model to account for this. \n",
    "\n",
    "Rather than connect the ResNet50 model to the front end of our existing VQA model, we decided to pre-compute the embeddings to save on future training time. To do this, we had to download all 80K MSCOCO images, run them through ResNet50, and create a new HDF5 dataset of (2048,1) embeddings which could then be fed to our VQA model. The code to do this is under the `Supplementary Code` directory in `create_h5dataset.py` and `create_resnet_embeddings.py`"
   ]
  },
  {
   "cell_type": "code",
   "execution_count": null,
   "metadata": {},
   "outputs": [],
   "source": [
    "from resnet_lstm import get_model as resnet_lstm_model"
   ]
  },
  {
   "cell_type": "code",
   "execution_count": null,
   "metadata": {},
   "outputs": [],
   "source": [
    "resnet_m = resnet_lstm_model(dropout_rate=0.5)"
   ]
  },
  {
   "cell_type": "code",
   "execution_count": null,
   "metadata": {},
   "outputs": [],
   "source": [
    "SVG(model_to_dot(resnet_m, show_layer_names=False, show_shapes=True).create(prog='dot', format='svg'))"
   ]
  },
  {
   "cell_type": "markdown",
   "metadata": {},
   "source": [
    "Now a dummy line to test the training function with a resnet model. "
   ]
  },
  {
   "cell_type": "code",
   "execution_count": null,
   "metadata": {},
   "outputs": [],
   "source": [
    "_, his = train( epoch=1, batch_size=4, data_limit=8, model_type=\"ResNet\", model_obj=resnet_m )"
   ]
  },
  {
   "cell_type": "markdown",
   "metadata": {},
   "source": [
    "Because of the overfitting we'd seen in the VGG19 model we ran several different flavors of the ResNet50 version that included more or less regularization to study the effects. \n",
    "1. No dropout\n",
    "2. 50% dropout\n",
    "3. 60% dropout plus L2 regularization\n",
    "\n",
    "We trained for 100 epochs and saw the following results. On the whole, we did not see much improvement in terms of tes accuracy with ResNet50 across any of the runs. The different regularization settings did not appear to fix the gap in accuracy between test and train sets. Train set accuracy was lower, but there was no corresponding increase in test set accuracy. \n",
    "\n",
    "With the Resnet Model, training the non-dropout model for 100 epochs gets to almost 100% train set accuracy, as mentioned above. "
   ]
  },
  {
   "cell_type": "markdown",
   "metadata": {},
   "source": [
    "Resnet No Dropout Model Accuracy | Resnet No Dropout Model Loss\n",
    "- | - \n",
    "<img src = './images_for_notebook/resnet_nodropout_acc.png'> | <img src= './images_for_notebook/resnet_nodropout_loss.png'> "
   ]
  },
  {
   "cell_type": "markdown",
   "metadata": {},
   "source": [
    "Resnet 60% Dropout plus L2 Reg Model Accuracy | Resnet 60% Dropout plus L2 Reg Model Loss\n",
    "- | - \n",
    "<img src= './images_for_notebook/resnet_drop_l2reg_accuracy.png'> | <img src= './images_for_notebook/resnet_drop_l2reg_loss.png'> "
   ]
  },
  {
   "cell_type": "markdown",
   "metadata": {},
   "source": [
    "<a id='concat'></a>\n",
    "## Question Embedding Experiments -- Concat vs. Last Layer of LSTM Only\n",
    "\n",
    "As observed above, the word embeddings taken from the open source code we imported only used the last hidden state output of the LSTM (i.e. output from the second layer). Now we'll fix that and retrain to see if our accuracy is improved by using the cell ('c') and hidden ('h') output of both LSTM hidden layers. This is what the original [VQA paper](https://arxiv.org/pdf/1505.00468v6.pdf) describes doing. "
   ]
  },
  {
   "cell_type": "code",
   "execution_count": 14,
   "metadata": {},
   "outputs": [],
   "source": [
    "from vgg19_lstm_concat import get_model as vqa_model_vgg19_lstm_concat"
   ]
  },
  {
   "cell_type": "code",
   "execution_count": 15,
   "metadata": {},
   "outputs": [
    {
     "name": "stdout",
     "output_type": "stream",
     "text": [
      "Creating Model...\n",
      "Found matrix so no need to recompute!\n",
      "Creating functional image model...\n",
      "Creating functional text model with both layers...\n",
      "Merging final functional model...\n",
      "No model weights file specified. Skipping weight load.\n"
     ]
    }
   ],
   "source": [
    "m_concat = vqa_model_vgg19_lstm_concat(dropout_rate=0.5)"
   ]
  },
  {
   "cell_type": "code",
   "execution_count": 16,
   "metadata": {},
   "outputs": [
    {
     "data": {
      "image/svg+xml": [
       "<svg height=\"1025pt\" viewBox=\"0.00 0.00 632.89 1025.00\" width=\"633pt\" xmlns=\"http://www.w3.org/2000/svg\" xmlns:xlink=\"http://www.w3.org/1999/xlink\">\n",
       "<g class=\"graph\" id=\"graph0\" transform=\"scale(1 1) rotate(0) translate(4 1021)\">\n",
       "<title>G</title>\n",
       "<polygon fill=\"#ffffff\" points=\"-4,4 -4,-1021 628.8936,-1021 628.8936,4 -4,4\" stroke=\"transparent\"/>\n",
       "<!-- 5565251656 -->\n",
       "<g class=\"node\" id=\"node1\">\n",
       "<title>5565251656</title>\n",
       "<polygon fill=\"none\" points=\"172.3828,-972.5 172.3828,-1016.5 382.8936,-1016.5 382.8936,-972.5 172.3828,-972.5\" stroke=\"#000000\"/>\n",
       "<text fill=\"#000000\" font-family=\"Times,serif\" font-size=\"14.00\" text-anchor=\"middle\" x=\"211.4795\" y=\"-990.3\">InputLayer</text>\n",
       "<polyline fill=\"none\" points=\"250.5762,-972.5 250.5762,-1016.5 \" stroke=\"#000000\"/>\n",
       "<text fill=\"#000000\" font-family=\"Times,serif\" font-size=\"14.00\" text-anchor=\"middle\" x=\"278.4106\" y=\"-1001.3\">input:</text>\n",
       "<polyline fill=\"none\" points=\"250.5762,-994.5 306.2451,-994.5 \" stroke=\"#000000\"/>\n",
       "<text fill=\"#000000\" font-family=\"Times,serif\" font-size=\"14.00\" text-anchor=\"middle\" x=\"278.4106\" y=\"-979.3\">output:</text>\n",
       "<polyline fill=\"none\" points=\"306.2451,-972.5 306.2451,-1016.5 \" stroke=\"#000000\"/>\n",
       "<text fill=\"#000000\" font-family=\"Times,serif\" font-size=\"14.00\" text-anchor=\"middle\" x=\"344.5693\" y=\"-1001.3\">(None, 26)</text>\n",
       "<polyline fill=\"none\" points=\"306.2451,-994.5 382.8936,-994.5 \" stroke=\"#000000\"/>\n",
       "<text fill=\"#000000\" font-family=\"Times,serif\" font-size=\"14.00\" text-anchor=\"middle\" x=\"344.5693\" y=\"-979.3\">(None, 26)</text>\n",
       "</g>\n",
       "<!-- 5565253840 -->\n",
       "<g class=\"node\" id=\"node2\">\n",
       "<title>5565253840</title>\n",
       "<polygon fill=\"none\" points=\"157.207,-891.5 157.207,-935.5 398.0693,-935.5 398.0693,-891.5 157.207,-891.5\" stroke=\"#000000\"/>\n",
       "<text fill=\"#000000\" font-family=\"Times,serif\" font-size=\"14.00\" text-anchor=\"middle\" x=\"197.4795\" y=\"-909.3\">Embedding</text>\n",
       "<polyline fill=\"none\" points=\"237.752,-891.5 237.752,-935.5 \" stroke=\"#000000\"/>\n",
       "<text fill=\"#000000\" font-family=\"Times,serif\" font-size=\"14.00\" text-anchor=\"middle\" x=\"265.5864\" y=\"-920.3\">input:</text>\n",
       "<polyline fill=\"none\" points=\"237.752,-913.5 293.4209,-913.5 \" stroke=\"#000000\"/>\n",
       "<text fill=\"#000000\" font-family=\"Times,serif\" font-size=\"14.00\" text-anchor=\"middle\" x=\"265.5864\" y=\"-898.3\">output:</text>\n",
       "<polyline fill=\"none\" points=\"293.4209,-891.5 293.4209,-935.5 \" stroke=\"#000000\"/>\n",
       "<text fill=\"#000000\" font-family=\"Times,serif\" font-size=\"14.00\" text-anchor=\"middle\" x=\"345.7451\" y=\"-920.3\">(None, 26)</text>\n",
       "<polyline fill=\"none\" points=\"293.4209,-913.5 398.0693,-913.5 \" stroke=\"#000000\"/>\n",
       "<text fill=\"#000000\" font-family=\"Times,serif\" font-size=\"14.00\" text-anchor=\"middle\" x=\"345.7451\" y=\"-898.3\">(None, 26, 300)</text>\n",
       "</g>\n",
       "<!-- 5565251656&#45;&gt;5565253840 -->\n",
       "<g class=\"edge\" id=\"edge1\">\n",
       "<title>5565251656-&gt;5565253840</title>\n",
       "<path d=\"M277.6382,-972.3664C277.6382,-964.1516 277.6382,-954.6579 277.6382,-945.7252\" fill=\"none\" stroke=\"#000000\"/>\n",
       "<polygon fill=\"#000000\" points=\"281.1383,-945.6068 277.6382,-935.6068 274.1383,-945.6069 281.1383,-945.6068\" stroke=\"#000000\"/>\n",
       "</g>\n",
       "<!-- 5565267528 -->\n",
       "<g class=\"node\" id=\"node3\">\n",
       "<title>5565267528</title>\n",
       "<polygon fill=\"none\" points=\"91.5,-810.5 91.5,-854.5 463.7764,-854.5 463.7764,-810.5 91.5,-810.5\" stroke=\"#000000\"/>\n",
       "<text fill=\"#000000\" font-family=\"Times,serif\" font-size=\"14.00\" text-anchor=\"middle\" x=\"118.1689\" y=\"-828.3\">LSTM</text>\n",
       "<polyline fill=\"none\" points=\"144.8379,-810.5 144.8379,-854.5 \" stroke=\"#000000\"/>\n",
       "<text fill=\"#000000\" font-family=\"Times,serif\" font-size=\"14.00\" text-anchor=\"middle\" x=\"172.6724\" y=\"-839.3\">input:</text>\n",
       "<polyline fill=\"none\" points=\"144.8379,-832.5 200.5068,-832.5 \" stroke=\"#000000\"/>\n",
       "<text fill=\"#000000\" font-family=\"Times,serif\" font-size=\"14.00\" text-anchor=\"middle\" x=\"172.6724\" y=\"-817.3\">output:</text>\n",
       "<polyline fill=\"none\" points=\"200.5068,-810.5 200.5068,-854.5 \" stroke=\"#000000\"/>\n",
       "<text fill=\"#000000\" font-family=\"Times,serif\" font-size=\"14.00\" text-anchor=\"middle\" x=\"331.8311\" y=\"-839.3\">(None, 26, 300)</text>\n",
       "<polyline fill=\"none\" points=\"200.5068,-832.5 463.7764,-832.5 \" stroke=\"#000000\"/>\n",
       "<text fill=\"#000000\" font-family=\"Times,serif\" font-size=\"14.00\" text-anchor=\"middle\" x=\"332.1416\" y=\"-817.3\">[(None, 26, 512), (None, 512), (None, 512)]</text>\n",
       "</g>\n",
       "<!-- 5565253840&#45;&gt;5565267528 -->\n",
       "<g class=\"edge\" id=\"edge2\">\n",
       "<title>5565253840-&gt;5565267528</title>\n",
       "<path d=\"M277.6382,-891.3664C277.6382,-883.1516 277.6382,-873.6579 277.6382,-864.7252\" fill=\"none\" stroke=\"#000000\"/>\n",
       "<polygon fill=\"#000000\" points=\"281.1383,-864.6068 277.6382,-854.6068 274.1383,-864.6069 281.1383,-864.6068\" stroke=\"#000000\"/>\n",
       "</g>\n",
       "<!-- 5565193856 -->\n",
       "<g class=\"node\" id=\"node4\">\n",
       "<title>5565193856</title>\n",
       "<polygon fill=\"none\" points=\"97.1484,-729.5 97.1484,-773.5 320.1279,-773.5 320.1279,-729.5 97.1484,-729.5\" stroke=\"#000000\"/>\n",
       "<text fill=\"#000000\" font-family=\"Times,serif\" font-size=\"14.00\" text-anchor=\"middle\" x=\"128.4795\" y=\"-747.3\">Dropout</text>\n",
       "<polyline fill=\"none\" points=\"159.8105,-729.5 159.8105,-773.5 \" stroke=\"#000000\"/>\n",
       "<text fill=\"#000000\" font-family=\"Times,serif\" font-size=\"14.00\" text-anchor=\"middle\" x=\"187.645\" y=\"-758.3\">input:</text>\n",
       "<polyline fill=\"none\" points=\"159.8105,-751.5 215.4795,-751.5 \" stroke=\"#000000\"/>\n",
       "<text fill=\"#000000\" font-family=\"Times,serif\" font-size=\"14.00\" text-anchor=\"middle\" x=\"187.645\" y=\"-736.3\">output:</text>\n",
       "<polyline fill=\"none\" points=\"215.4795,-729.5 215.4795,-773.5 \" stroke=\"#000000\"/>\n",
       "<text fill=\"#000000\" font-family=\"Times,serif\" font-size=\"14.00\" text-anchor=\"middle\" x=\"267.8037\" y=\"-758.3\">(None, 26, 512)</text>\n",
       "<polyline fill=\"none\" points=\"215.4795,-751.5 320.1279,-751.5 \" stroke=\"#000000\"/>\n",
       "<text fill=\"#000000\" font-family=\"Times,serif\" font-size=\"14.00\" text-anchor=\"middle\" x=\"267.8037\" y=\"-736.3\">(None, 26, 512)</text>\n",
       "</g>\n",
       "<!-- 5565267528&#45;&gt;5565193856 -->\n",
       "<g class=\"edge\" id=\"edge3\">\n",
       "<title>5565267528-&gt;5565193856</title>\n",
       "<path d=\"M258.7836,-810.3664C251.1774,-801.4373 242.2839,-790.9972 234.1161,-781.4088\" fill=\"none\" stroke=\"#000000\"/>\n",
       "<polygon fill=\"#000000\" points=\"236.619,-778.9497 227.4699,-773.6068 231.2903,-783.4889 236.619,-778.9497\" stroke=\"#000000\"/>\n",
       "</g>\n",
       "<!-- 5572407984 -->\n",
       "<g class=\"node\" id=\"node6\">\n",
       "<title>5572407984</title>\n",
       "<polygon fill=\"none\" points=\"48.7515,-567.5 48.7515,-611.5 506.5249,-611.5 506.5249,-567.5 48.7515,-567.5\" stroke=\"#000000\"/>\n",
       "<text fill=\"#000000\" font-family=\"Times,serif\" font-size=\"14.00\" text-anchor=\"middle\" x=\"91.3447\" y=\"-585.3\">Concatenate</text>\n",
       "<polyline fill=\"none\" points=\"133.938,-567.5 133.938,-611.5 \" stroke=\"#000000\"/>\n",
       "<text fill=\"#000000\" font-family=\"Times,serif\" font-size=\"14.00\" text-anchor=\"middle\" x=\"161.7725\" y=\"-596.3\">input:</text>\n",
       "<polyline fill=\"none\" points=\"133.938,-589.5 189.6069,-589.5 \" stroke=\"#000000\"/>\n",
       "<text fill=\"#000000\" font-family=\"Times,serif\" font-size=\"14.00\" text-anchor=\"middle\" x=\"161.7725\" y=\"-574.3\">output:</text>\n",
       "<polyline fill=\"none\" points=\"189.6069,-567.5 189.6069,-611.5 \" stroke=\"#000000\"/>\n",
       "<text fill=\"#000000\" font-family=\"Times,serif\" font-size=\"14.00\" text-anchor=\"middle\" x=\"348.0659\" y=\"-596.3\">[(None, 512), (None, 512), (None, 512), (None, 512)]</text>\n",
       "<polyline fill=\"none\" points=\"189.6069,-589.5 506.5249,-589.5 \" stroke=\"#000000\"/>\n",
       "<text fill=\"#000000\" font-family=\"Times,serif\" font-size=\"14.00\" text-anchor=\"middle\" x=\"347.9312\" y=\"-574.3\">(None, 2048)</text>\n",
       "</g>\n",
       "<!-- 5565267528&#45;&gt;5572407984 -->\n",
       "<g class=\"edge\" id=\"edge5\">\n",
       "<title>5565267528-&gt;5572407984</title>\n",
       "<path d=\"M300.1916,-810.3074C309.8596,-799.9292 320.7238,-787.0069 328.6382,-774 348.7587,-740.9328 353.3994,-731.0246 360.6382,-693 364.3785,-673.3529 369.8458,-665.7545 360.6382,-648 354.3647,-635.9031 344.3127,-625.778 333.3358,-617.5368\" fill=\"none\" stroke=\"#000000\"/>\n",
       "<polygon fill=\"#000000\" points=\"335.0156,-614.4416 324.8088,-611.6004 331.0161,-620.1865 335.0156,-614.4416\" stroke=\"#000000\"/>\n",
       "</g>\n",
       "<!-- 5573702768 -->\n",
       "<g class=\"node\" id=\"node5\">\n",
       "<title>5573702768</title>\n",
       "<polygon fill=\"none\" points=\"0,-648.5 0,-692.5 351.2764,-692.5 351.2764,-648.5 0,-648.5\" stroke=\"#000000\"/>\n",
       "<text fill=\"#000000\" font-family=\"Times,serif\" font-size=\"14.00\" text-anchor=\"middle\" x=\"26.6689\" y=\"-666.3\">LSTM</text>\n",
       "<polyline fill=\"none\" points=\"53.3379,-648.5 53.3379,-692.5 \" stroke=\"#000000\"/>\n",
       "<text fill=\"#000000\" font-family=\"Times,serif\" font-size=\"14.00\" text-anchor=\"middle\" x=\"81.1724\" y=\"-677.3\">input:</text>\n",
       "<polyline fill=\"none\" points=\"53.3379,-670.5 109.0068,-670.5 \" stroke=\"#000000\"/>\n",
       "<text fill=\"#000000\" font-family=\"Times,serif\" font-size=\"14.00\" text-anchor=\"middle\" x=\"81.1724\" y=\"-655.3\">output:</text>\n",
       "<polyline fill=\"none\" points=\"109.0068,-648.5 109.0068,-692.5 \" stroke=\"#000000\"/>\n",
       "<text fill=\"#000000\" font-family=\"Times,serif\" font-size=\"14.00\" text-anchor=\"middle\" x=\"229.8311\" y=\"-677.3\">(None, 26, 512)</text>\n",
       "<polyline fill=\"none\" points=\"109.0068,-670.5 351.2764,-670.5 \" stroke=\"#000000\"/>\n",
       "<text fill=\"#000000\" font-family=\"Times,serif\" font-size=\"14.00\" text-anchor=\"middle\" x=\"230.1416\" y=\"-655.3\">[(None, 512), (None, 512), (None, 512)]</text>\n",
       "</g>\n",
       "<!-- 5565193856&#45;&gt;5573702768 -->\n",
       "<g class=\"edge\" id=\"edge4\">\n",
       "<title>5565193856-&gt;5573702768</title>\n",
       "<path d=\"M199.6208,-729.3664C196.2013,-720.9731 192.2378,-711.2445 188.5299,-702.1434\" fill=\"none\" stroke=\"#000000\"/>\n",
       "<polygon fill=\"#000000\" points=\"191.659,-700.5472 184.6447,-692.6068 185.1764,-703.1883 191.659,-700.5472\" stroke=\"#000000\"/>\n",
       "</g>\n",
       "<!-- 5573702768&#45;&gt;5572407984 -->\n",
       "<g class=\"edge\" id=\"edge7\">\n",
       "<title>5573702768-&gt;5572407984</title>\n",
       "<path d=\"M203.5101,-648.3664C215.3163,-638.9909 229.2205,-627.9494 241.7779,-617.9773\" fill=\"none\" stroke=\"#000000\"/>\n",
       "<polygon fill=\"#000000\" points=\"244.1454,-620.5666 249.7999,-611.6068 239.7922,-615.0848 244.1454,-620.5666\" stroke=\"#000000\"/>\n",
       "</g>\n",
       "<!-- 5569935568 -->\n",
       "<g class=\"node\" id=\"node8\">\n",
       "<title>5569935568</title>\n",
       "<polygon fill=\"none\" points=\"173.1484,-486.5 173.1484,-530.5 382.1279,-530.5 382.1279,-486.5 173.1484,-486.5\" stroke=\"#000000\"/>\n",
       "<text fill=\"#000000\" font-family=\"Times,serif\" font-size=\"14.00\" text-anchor=\"middle\" x=\"204.4795\" y=\"-504.3\">Dropout</text>\n",
       "<polyline fill=\"none\" points=\"235.8105,-486.5 235.8105,-530.5 \" stroke=\"#000000\"/>\n",
       "<text fill=\"#000000\" font-family=\"Times,serif\" font-size=\"14.00\" text-anchor=\"middle\" x=\"263.645\" y=\"-515.3\">input:</text>\n",
       "<polyline fill=\"none\" points=\"235.8105,-508.5 291.4795,-508.5 \" stroke=\"#000000\"/>\n",
       "<text fill=\"#000000\" font-family=\"Times,serif\" font-size=\"14.00\" text-anchor=\"middle\" x=\"263.645\" y=\"-493.3\">output:</text>\n",
       "<polyline fill=\"none\" points=\"291.4795,-486.5 291.4795,-530.5 \" stroke=\"#000000\"/>\n",
       "<text fill=\"#000000\" font-family=\"Times,serif\" font-size=\"14.00\" text-anchor=\"middle\" x=\"336.8037\" y=\"-515.3\">(None, 2048)</text>\n",
       "<polyline fill=\"none\" points=\"291.4795,-508.5 382.1279,-508.5 \" stroke=\"#000000\"/>\n",
       "<text fill=\"#000000\" font-family=\"Times,serif\" font-size=\"14.00\" text-anchor=\"middle\" x=\"336.8037\" y=\"-493.3\">(None, 2048)</text>\n",
       "</g>\n",
       "<!-- 5572407984&#45;&gt;5569935568 -->\n",
       "<g class=\"edge\" id=\"edge9\">\n",
       "<title>5572407984-&gt;5569935568</title>\n",
       "<path d=\"M277.6382,-567.3664C277.6382,-559.1516 277.6382,-549.6579 277.6382,-540.7252\" fill=\"none\" stroke=\"#000000\"/>\n",
       "<polygon fill=\"#000000\" points=\"281.1383,-540.6068 277.6382,-530.6068 274.1383,-540.6069 281.1383,-540.6068\" stroke=\"#000000\"/>\n",
       "</g>\n",
       "<!-- 5565267752 -->\n",
       "<g class=\"node\" id=\"node7\">\n",
       "<title>5565267752</title>\n",
       "<polygon fill=\"none\" points=\"400.3828,-486.5 400.3828,-530.5 624.8936,-530.5 624.8936,-486.5 400.3828,-486.5\" stroke=\"#000000\"/>\n",
       "<text fill=\"#000000\" font-family=\"Times,serif\" font-size=\"14.00\" text-anchor=\"middle\" x=\"439.4795\" y=\"-504.3\">InputLayer</text>\n",
       "<polyline fill=\"none\" points=\"478.5762,-486.5 478.5762,-530.5 \" stroke=\"#000000\"/>\n",
       "<text fill=\"#000000\" font-family=\"Times,serif\" font-size=\"14.00\" text-anchor=\"middle\" x=\"506.4106\" y=\"-515.3\">input:</text>\n",
       "<polyline fill=\"none\" points=\"478.5762,-508.5 534.2451,-508.5 \" stroke=\"#000000\"/>\n",
       "<text fill=\"#000000\" font-family=\"Times,serif\" font-size=\"14.00\" text-anchor=\"middle\" x=\"506.4106\" y=\"-493.3\">output:</text>\n",
       "<polyline fill=\"none\" points=\"534.2451,-486.5 534.2451,-530.5 \" stroke=\"#000000\"/>\n",
       "<text fill=\"#000000\" font-family=\"Times,serif\" font-size=\"14.00\" text-anchor=\"middle\" x=\"579.5693\" y=\"-515.3\">(None, 4096)</text>\n",
       "<polyline fill=\"none\" points=\"534.2451,-508.5 624.8936,-508.5 \" stroke=\"#000000\"/>\n",
       "<text fill=\"#000000\" font-family=\"Times,serif\" font-size=\"14.00\" text-anchor=\"middle\" x=\"579.5693\" y=\"-493.3\">(None, 4096)</text>\n",
       "</g>\n",
       "<!-- 5565267080 -->\n",
       "<g class=\"node\" id=\"node9\">\n",
       "<title>5565267080</title>\n",
       "<polygon fill=\"none\" points=\"408.9863,-405.5 408.9863,-449.5 606.29,-449.5 606.29,-405.5 408.9863,-405.5\" stroke=\"#000000\"/>\n",
       "<text fill=\"#000000\" font-family=\"Times,serif\" font-size=\"14.00\" text-anchor=\"middle\" x=\"434.4795\" y=\"-423.3\">Dense</text>\n",
       "<polyline fill=\"none\" points=\"459.9727,-405.5 459.9727,-449.5 \" stroke=\"#000000\"/>\n",
       "<text fill=\"#000000\" font-family=\"Times,serif\" font-size=\"14.00\" text-anchor=\"middle\" x=\"487.8071\" y=\"-434.3\">input:</text>\n",
       "<polyline fill=\"none\" points=\"459.9727,-427.5 515.6416,-427.5 \" stroke=\"#000000\"/>\n",
       "<text fill=\"#000000\" font-family=\"Times,serif\" font-size=\"14.00\" text-anchor=\"middle\" x=\"487.8071\" y=\"-412.3\">output:</text>\n",
       "<polyline fill=\"none\" points=\"515.6416,-405.5 515.6416,-449.5 \" stroke=\"#000000\"/>\n",
       "<text fill=\"#000000\" font-family=\"Times,serif\" font-size=\"14.00\" text-anchor=\"middle\" x=\"560.9658\" y=\"-434.3\">(None, 4096)</text>\n",
       "<polyline fill=\"none\" points=\"515.6416,-427.5 606.29,-427.5 \" stroke=\"#000000\"/>\n",
       "<text fill=\"#000000\" font-family=\"Times,serif\" font-size=\"14.00\" text-anchor=\"middle\" x=\"560.9658\" y=\"-412.3\">(None, 1024)</text>\n",
       "</g>\n",
       "<!-- 5565267752&#45;&gt;5565267080 -->\n",
       "<g class=\"edge\" id=\"edge10\">\n",
       "<title>5565267752-&gt;5565267080</title>\n",
       "<path d=\"M511.2719,-486.3664C510.7648,-478.1516 510.1788,-468.6579 509.6274,-459.7252\" fill=\"none\" stroke=\"#000000\"/>\n",
       "<polygon fill=\"#000000\" points=\"513.1124,-459.3722 509.0028,-449.6068 506.1257,-459.8035 513.1124,-459.3722\" stroke=\"#000000\"/>\n",
       "</g>\n",
       "<!-- 5569994032 -->\n",
       "<g class=\"node\" id=\"node10\">\n",
       "<title>5569994032</title>\n",
       "<polygon fill=\"none\" points=\"188.9863,-405.5 188.9863,-449.5 386.29,-449.5 386.29,-405.5 188.9863,-405.5\" stroke=\"#000000\"/>\n",
       "<text fill=\"#000000\" font-family=\"Times,serif\" font-size=\"14.00\" text-anchor=\"middle\" x=\"214.4795\" y=\"-423.3\">Dense</text>\n",
       "<polyline fill=\"none\" points=\"239.9727,-405.5 239.9727,-449.5 \" stroke=\"#000000\"/>\n",
       "<text fill=\"#000000\" font-family=\"Times,serif\" font-size=\"14.00\" text-anchor=\"middle\" x=\"267.8071\" y=\"-434.3\">input:</text>\n",
       "<polyline fill=\"none\" points=\"239.9727,-427.5 295.6416,-427.5 \" stroke=\"#000000\"/>\n",
       "<text fill=\"#000000\" font-family=\"Times,serif\" font-size=\"14.00\" text-anchor=\"middle\" x=\"267.8071\" y=\"-412.3\">output:</text>\n",
       "<polyline fill=\"none\" points=\"295.6416,-405.5 295.6416,-449.5 \" stroke=\"#000000\"/>\n",
       "<text fill=\"#000000\" font-family=\"Times,serif\" font-size=\"14.00\" text-anchor=\"middle\" x=\"340.9658\" y=\"-434.3\">(None, 2048)</text>\n",
       "<polyline fill=\"none\" points=\"295.6416,-427.5 386.29,-427.5 \" stroke=\"#000000\"/>\n",
       "<text fill=\"#000000\" font-family=\"Times,serif\" font-size=\"14.00\" text-anchor=\"middle\" x=\"340.9658\" y=\"-412.3\">(None, 1024)</text>\n",
       "</g>\n",
       "<!-- 5569935568&#45;&gt;5569994032 -->\n",
       "<g class=\"edge\" id=\"edge11\">\n",
       "<title>5569935568-&gt;5569994032</title>\n",
       "<path d=\"M280.3707,-486.3664C281.3849,-478.1516 282.557,-468.6579 283.6598,-459.7252\" fill=\"none\" stroke=\"#000000\"/>\n",
       "<polygon fill=\"#000000\" points=\"287.1572,-459.9604 284.9089,-449.6068 280.21,-459.1026 287.1572,-459.9604\" stroke=\"#000000\"/>\n",
       "</g>\n",
       "<!-- 5574502664 -->\n",
       "<g class=\"node\" id=\"node11\">\n",
       "<title>5574502664</title>\n",
       "<polygon fill=\"none\" points=\"243.4897,-324.5 243.4897,-368.5 545.7866,-368.5 545.7866,-324.5 243.4897,-324.5\" stroke=\"#000000\"/>\n",
       "<text fill=\"#000000\" font-family=\"Times,serif\" font-size=\"14.00\" text-anchor=\"middle\" x=\"275.9932\" y=\"-342.3\">Multiply</text>\n",
       "<polyline fill=\"none\" points=\"308.4966,-324.5 308.4966,-368.5 \" stroke=\"#000000\"/>\n",
       "<text fill=\"#000000\" font-family=\"Times,serif\" font-size=\"14.00\" text-anchor=\"middle\" x=\"336.3311\" y=\"-353.3\">input:</text>\n",
       "<polyline fill=\"none\" points=\"308.4966,-346.5 364.1655,-346.5 \" stroke=\"#000000\"/>\n",
       "<text fill=\"#000000\" font-family=\"Times,serif\" font-size=\"14.00\" text-anchor=\"middle\" x=\"336.3311\" y=\"-331.3\">output:</text>\n",
       "<polyline fill=\"none\" points=\"364.1655,-324.5 364.1655,-368.5 \" stroke=\"#000000\"/>\n",
       "<text fill=\"#000000\" font-family=\"Times,serif\" font-size=\"14.00\" text-anchor=\"middle\" x=\"454.9761\" y=\"-353.3\">[(None, 1024), (None, 1024)]</text>\n",
       "<polyline fill=\"none\" points=\"364.1655,-346.5 545.7866,-346.5 \" stroke=\"#000000\"/>\n",
       "<text fill=\"#000000\" font-family=\"Times,serif\" font-size=\"14.00\" text-anchor=\"middle\" x=\"454.4897\" y=\"-331.3\">(None, 1024)</text>\n",
       "</g>\n",
       "<!-- 5565267080&#45;&gt;5574502664 -->\n",
       "<g class=\"edge\" id=\"edge12\">\n",
       "<title>5565267080-&gt;5574502664</title>\n",
       "<path d=\"M476.7604,-405.3664C463.5564,-395.9016 447.9838,-384.7389 433.9686,-374.6926\" fill=\"none\" stroke=\"#000000\"/>\n",
       "<polygon fill=\"#000000\" points=\"435.6453,-371.5882 425.4786,-368.6068 431.5671,-377.2775 435.6453,-371.5882\" stroke=\"#000000\"/>\n",
       "</g>\n",
       "<!-- 5569994032&#45;&gt;5574502664 -->\n",
       "<g class=\"edge\" id=\"edge13\">\n",
       "<title>5569994032-&gt;5574502664</title>\n",
       "<path d=\"M316.8764,-405.3664C329.3793,-395.9016 344.1251,-384.7389 357.3961,-374.6926\" fill=\"none\" stroke=\"#000000\"/>\n",
       "<polygon fill=\"#000000\" points=\"359.5747,-377.4332 365.4353,-368.6068 355.3497,-371.852 359.5747,-377.4332\" stroke=\"#000000\"/>\n",
       "</g>\n",
       "<!-- 5574500704 -->\n",
       "<g class=\"node\" id=\"node12\">\n",
       "<title>5574500704</title>\n",
       "<polygon fill=\"none\" points=\"290.1484,-243.5 290.1484,-287.5 499.1279,-287.5 499.1279,-243.5 290.1484,-243.5\" stroke=\"#000000\"/>\n",
       "<text fill=\"#000000\" font-family=\"Times,serif\" font-size=\"14.00\" text-anchor=\"middle\" x=\"321.4795\" y=\"-261.3\">Dropout</text>\n",
       "<polyline fill=\"none\" points=\"352.8105,-243.5 352.8105,-287.5 \" stroke=\"#000000\"/>\n",
       "<text fill=\"#000000\" font-family=\"Times,serif\" font-size=\"14.00\" text-anchor=\"middle\" x=\"380.645\" y=\"-272.3\">input:</text>\n",
       "<polyline fill=\"none\" points=\"352.8105,-265.5 408.4795,-265.5 \" stroke=\"#000000\"/>\n",
       "<text fill=\"#000000\" font-family=\"Times,serif\" font-size=\"14.00\" text-anchor=\"middle\" x=\"380.645\" y=\"-250.3\">output:</text>\n",
       "<polyline fill=\"none\" points=\"408.4795,-243.5 408.4795,-287.5 \" stroke=\"#000000\"/>\n",
       "<text fill=\"#000000\" font-family=\"Times,serif\" font-size=\"14.00\" text-anchor=\"middle\" x=\"453.8037\" y=\"-272.3\">(None, 1024)</text>\n",
       "<polyline fill=\"none\" points=\"408.4795,-265.5 499.1279,-265.5 \" stroke=\"#000000\"/>\n",
       "<text fill=\"#000000\" font-family=\"Times,serif\" font-size=\"14.00\" text-anchor=\"middle\" x=\"453.8037\" y=\"-250.3\">(None, 1024)</text>\n",
       "</g>\n",
       "<!-- 5574502664&#45;&gt;5574500704 -->\n",
       "<g class=\"edge\" id=\"edge14\">\n",
       "<title>5574502664-&gt;5574500704</title>\n",
       "<path d=\"M394.6382,-324.3664C394.6382,-316.1516 394.6382,-306.6579 394.6382,-297.7252\" fill=\"none\" stroke=\"#000000\"/>\n",
       "<polygon fill=\"#000000\" points=\"398.1383,-297.6068 394.6382,-287.6068 391.1383,-297.6069 398.1383,-297.6068\" stroke=\"#000000\"/>\n",
       "</g>\n",
       "<!-- 5574502384 -->\n",
       "<g class=\"node\" id=\"node13\">\n",
       "<title>5574502384</title>\n",
       "<polygon fill=\"none\" points=\"295.9863,-162.5 295.9863,-206.5 493.29,-206.5 493.29,-162.5 295.9863,-162.5\" stroke=\"#000000\"/>\n",
       "<text fill=\"#000000\" font-family=\"Times,serif\" font-size=\"14.00\" text-anchor=\"middle\" x=\"321.4795\" y=\"-180.3\">Dense</text>\n",
       "<polyline fill=\"none\" points=\"346.9727,-162.5 346.9727,-206.5 \" stroke=\"#000000\"/>\n",
       "<text fill=\"#000000\" font-family=\"Times,serif\" font-size=\"14.00\" text-anchor=\"middle\" x=\"374.8071\" y=\"-191.3\">input:</text>\n",
       "<polyline fill=\"none\" points=\"346.9727,-184.5 402.6416,-184.5 \" stroke=\"#000000\"/>\n",
       "<text fill=\"#000000\" font-family=\"Times,serif\" font-size=\"14.00\" text-anchor=\"middle\" x=\"374.8071\" y=\"-169.3\">output:</text>\n",
       "<polyline fill=\"none\" points=\"402.6416,-162.5 402.6416,-206.5 \" stroke=\"#000000\"/>\n",
       "<text fill=\"#000000\" font-family=\"Times,serif\" font-size=\"14.00\" text-anchor=\"middle\" x=\"447.9658\" y=\"-191.3\">(None, 1024)</text>\n",
       "<polyline fill=\"none\" points=\"402.6416,-184.5 493.29,-184.5 \" stroke=\"#000000\"/>\n",
       "<text fill=\"#000000\" font-family=\"Times,serif\" font-size=\"14.00\" text-anchor=\"middle\" x=\"447.9658\" y=\"-169.3\">(None, 1000)</text>\n",
       "</g>\n",
       "<!-- 5574500704&#45;&gt;5574502384 -->\n",
       "<g class=\"edge\" id=\"edge15\">\n",
       "<title>5574500704-&gt;5574502384</title>\n",
       "<path d=\"M394.6382,-243.3664C394.6382,-235.1516 394.6382,-225.6579 394.6382,-216.7252\" fill=\"none\" stroke=\"#000000\"/>\n",
       "<polygon fill=\"#000000\" points=\"398.1383,-216.6068 394.6382,-206.6068 391.1383,-216.6069 398.1383,-216.6068\" stroke=\"#000000\"/>\n",
       "</g>\n",
       "<!-- 5574528976 -->\n",
       "<g class=\"node\" id=\"node14\">\n",
       "<title>5574528976</title>\n",
       "<polygon fill=\"none\" points=\"290.1484,-81.5 290.1484,-125.5 499.1279,-125.5 499.1279,-81.5 290.1484,-81.5\" stroke=\"#000000\"/>\n",
       "<text fill=\"#000000\" font-family=\"Times,serif\" font-size=\"14.00\" text-anchor=\"middle\" x=\"321.4795\" y=\"-99.3\">Dropout</text>\n",
       "<polyline fill=\"none\" points=\"352.8105,-81.5 352.8105,-125.5 \" stroke=\"#000000\"/>\n",
       "<text fill=\"#000000\" font-family=\"Times,serif\" font-size=\"14.00\" text-anchor=\"middle\" x=\"380.645\" y=\"-110.3\">input:</text>\n",
       "<polyline fill=\"none\" points=\"352.8105,-103.5 408.4795,-103.5 \" stroke=\"#000000\"/>\n",
       "<text fill=\"#000000\" font-family=\"Times,serif\" font-size=\"14.00\" text-anchor=\"middle\" x=\"380.645\" y=\"-88.3\">output:</text>\n",
       "<polyline fill=\"none\" points=\"408.4795,-81.5 408.4795,-125.5 \" stroke=\"#000000\"/>\n",
       "<text fill=\"#000000\" font-family=\"Times,serif\" font-size=\"14.00\" text-anchor=\"middle\" x=\"453.8037\" y=\"-110.3\">(None, 1000)</text>\n",
       "<polyline fill=\"none\" points=\"408.4795,-103.5 499.1279,-103.5 \" stroke=\"#000000\"/>\n",
       "<text fill=\"#000000\" font-family=\"Times,serif\" font-size=\"14.00\" text-anchor=\"middle\" x=\"453.8037\" y=\"-88.3\">(None, 1000)</text>\n",
       "</g>\n",
       "<!-- 5574502384&#45;&gt;5574528976 -->\n",
       "<g class=\"edge\" id=\"edge16\">\n",
       "<title>5574502384-&gt;5574528976</title>\n",
       "<path d=\"M394.6382,-162.3664C394.6382,-154.1516 394.6382,-144.6579 394.6382,-135.7252\" fill=\"none\" stroke=\"#000000\"/>\n",
       "<polygon fill=\"#000000\" points=\"398.1383,-135.6068 394.6382,-125.6068 391.1383,-135.6069 398.1383,-135.6068\" stroke=\"#000000\"/>\n",
       "</g>\n",
       "<!-- 5574489312 -->\n",
       "<g class=\"node\" id=\"node15\">\n",
       "<title>5574489312</title>\n",
       "<polygon fill=\"none\" points=\"295.9863,-.5 295.9863,-44.5 493.29,-44.5 493.29,-.5 295.9863,-.5\" stroke=\"#000000\"/>\n",
       "<text fill=\"#000000\" font-family=\"Times,serif\" font-size=\"14.00\" text-anchor=\"middle\" x=\"321.4795\" y=\"-18.3\">Dense</text>\n",
       "<polyline fill=\"none\" points=\"346.9727,-.5 346.9727,-44.5 \" stroke=\"#000000\"/>\n",
       "<text fill=\"#000000\" font-family=\"Times,serif\" font-size=\"14.00\" text-anchor=\"middle\" x=\"374.8071\" y=\"-29.3\">input:</text>\n",
       "<polyline fill=\"none\" points=\"346.9727,-22.5 402.6416,-22.5 \" stroke=\"#000000\"/>\n",
       "<text fill=\"#000000\" font-family=\"Times,serif\" font-size=\"14.00\" text-anchor=\"middle\" x=\"374.8071\" y=\"-7.3\">output:</text>\n",
       "<polyline fill=\"none\" points=\"402.6416,-.5 402.6416,-44.5 \" stroke=\"#000000\"/>\n",
       "<text fill=\"#000000\" font-family=\"Times,serif\" font-size=\"14.00\" text-anchor=\"middle\" x=\"447.9658\" y=\"-29.3\">(None, 1000)</text>\n",
       "<polyline fill=\"none\" points=\"402.6416,-22.5 493.29,-22.5 \" stroke=\"#000000\"/>\n",
       "<text fill=\"#000000\" font-family=\"Times,serif\" font-size=\"14.00\" text-anchor=\"middle\" x=\"447.9658\" y=\"-7.3\">(None, 1000)</text>\n",
       "</g>\n",
       "<!-- 5574528976&#45;&gt;5574489312 -->\n",
       "<g class=\"edge\" id=\"edge17\">\n",
       "<title>5574528976-&gt;5574489312</title>\n",
       "<path d=\"M394.6382,-81.3664C394.6382,-73.1516 394.6382,-63.6579 394.6382,-54.7252\" fill=\"none\" stroke=\"#000000\"/>\n",
       "<polygon fill=\"#000000\" points=\"398.1383,-54.6068 394.6382,-44.6068 391.1383,-54.6069 398.1383,-54.6068\" stroke=\"#000000\"/>\n",
       "</g>\n",
       "</g>\n",
       "</svg>"
      ],
      "text/plain": [
       "<IPython.core.display.SVG object>"
      ]
     },
     "execution_count": 16,
     "metadata": {},
     "output_type": "execute_result"
    }
   ],
   "source": [
    "SVG(model_to_dot(m_concat, show_layer_names=False, show_shapes=True).create(prog='dot', format='svg'))"
   ]
  },
  {
   "cell_type": "markdown",
   "metadata": {},
   "source": [
    "After training, we saw only minor improvements with this approach. If you look at the charts, you'll see that the base model does slightly better than the concat model on the training dataset. After 100 epochs the loss was still falling for both models though, suggesting they'd both probably eventually get to 99% accuracy as was seen before. \n",
    "\n",
    "<br>\n",
    "However, the concat model does slightly better on the test set, exhibiting both smaller loss and slightly better accuracy. It seems it is more robust to overfitting than the base model. "
   ]
  },
  {
   "cell_type": "markdown",
   "metadata": {},
   "source": [
    "Accuracy Comparison | Loss Comparison\n",
    "- | - \n",
    "<img src = './images_for_notebook/concat_acc.png'> | <img src= './images_for_notebook/concat_loss.png'> "
   ]
  },
  {
   "cell_type": "markdown",
   "metadata": {},
   "source": [
    "<a id='loss_function_mods'></a>\n",
    "\n",
    "## Loss Function - Soft Cross Entropy Loss vs. Categorical Cross Entropy Loss\n",
    "\n",
    "Our original model used categorical cross-entropy loss, with the ground-truth answer being a one-hot vector encoding the answer given by the majority of the human respondents polled. However, the VQA metric actually awards partial credit to models that output answers that match any of the ten human respondent answers. Thus, our original model has a disconnect between the loss function and the evaluation metric. \n",
    "\n",
    "One of the top performers in this year's VQA challenge sought to address this by proposing a [soft cross entropy loss](https://ilija139.github.io/pub/cvpr2017_vqa.pdf) function. This function calculates a weighted average of all unique ground truth answers given by the 10 human respondents. \n",
    "\n"
   ]
  },
  {
   "cell_type": "markdown",
   "metadata": {},
   "source": [
    "Categorical Cross Entropy | Soft Cross Entropy\n",
    "- | - \n",
    "<img src = './images_for_notebook/categorical_cross_entropy.png'> | <img src= './images_for_notebook/soft_cross_entropy.png'>"
   ]
  },
  {
   "cell_type": "markdown",
   "metadata": {},
   "source": [
    "While the authors of the paper implemented soft cross entropy loss via modifying their implementation of the default categorical cross entropy loss function, we determined that it is possible to compute the save loss by changing our Y label to a vector of percentages, and using the default categorical cross entropy loss.\n",
    "\n",
    "Hence, we modified our Y labels to be a vector of the percentage of time that the answer at that index appears in the ten ground truth answers. \n",
    "\n",
    "To train with soft cross entropy loss, we pass in `loss_type=\"soft\"` to our training routine."
   ]
  },
  {
   "cell_type": "code",
   "execution_count": null,
   "metadata": {},
   "outputs": [],
   "source": [
    "_, his = train( epoch=1, batch_size=4, data_limit=8, model_type=\"ResNet\", model_obj=resnet_m, loss_type=\"soft\" )"
   ]
  },
  {
   "cell_type": "markdown",
   "metadata": {},
   "source": [
    "After training various models using soft cross entropy, we saw that this lead to an 15 ~ 20% increase in accuracy of the given model. Below, we compare the effects of soft cross entropy on the Element-wise Product model with ReLU Activations."
   ]
  },
  {
   "cell_type": "markdown",
   "metadata": {},
   "source": [
    "Accuracy Comparison | Loss Comparison\n",
    "- | - \n",
    "<img src = './images_for_notebook/soft_acc.png'> | <img src= './images_for_notebook/soft_loss.png'>"
   ]
  },
  {
   "cell_type": "markdown",
   "metadata": {},
   "source": [
    "<a id='compact_bilinear'></a>\n",
    "## Fused MultiModal Compact Bilinear Pooling \n",
    "\n",
    "The [second place winner](https://arxiv.org/pdf/1606.01847.pdf) in this year’s VQA challenge implemented a concept known as multimodal compact bilinear pooling. The idea is that using concatenation or elementwise multiplication to combine image and question embeddings (each of which represents information from a different modality, hence the term “multimodal”) may limit model performance. A more sophisticated approach to fusing these two might be necessary.\n",
    "\n",
    "One option is to instead do an outer product of the image and question embeddings, but this becomes infeasible because of the resulting $N^2$ size matrix is much too big to connect to subsequent dense layers (results in too many model parameters). \n",
    "\n",
    "Multimodal compact bilinear pooling is a way to do the outer product and then further compress it. It amounts to a combination of element-wise multiplication, fully connected layers, and sum pooling. "
   ]
  },
  {
   "cell_type": "markdown",
   "metadata": {},
   "source": [
    "MultiModal Compact Bilinear Pooling | MCB Algorithm\n",
    "- | - \n",
    "<img src = './images_for_notebook/MCB_diagram.png'> | <img src= './images_for_notebook/MCB_algorithm.png'>"
   ]
  },
  {
   "cell_type": "markdown",
   "metadata": {},
   "source": [
    "As there were no existing implementations of Compact Bilinear Pooling for keras on Python 3 and using the Tensorflow backend, we implemented it as a custom Keras layer by referencing an exising implementation in [Tensorflow](https://github.com/ronghanghu/tensorflow_compact_bilinear_pooling), and [Keras on Theano](https://libraries.io/github/akshaychawla/keras). The custom Keras layer can be found at `keras_tensorflow_compact_bilinear_pooling.py` is only for Keras on Tensorflow backend."
   ]
  },
  {
   "cell_type": "code",
   "execution_count": null,
   "metadata": {},
   "outputs": [],
   "source": [
    "from mcb_relu import get_model as vqa_model_mcb"
   ]
  },
  {
   "cell_type": "code",
   "execution_count": null,
   "metadata": {},
   "outputs": [],
   "source": [
    "m_concat = vqa_model_mcb(dropout_rate=0.5)"
   ]
  },
  {
   "cell_type": "code",
   "execution_count": null,
   "metadata": {},
   "outputs": [],
   "source": [
    "SVG(model_to_dot(m_concat, show_layer_names=False, show_shapes=True).create(prog='dot', format='svg'))"
   ]
  },
  {
   "cell_type": "markdown",
   "metadata": {},
   "source": [
    "The second place paper observed a 1.3% increrase in validation accuracy from changing the element-wise multiplication layer to multimodal bilinear pooling, we observed comparable results with ReLU activations, and a significant decrease in model accuracy when using Tanh activation.  \n",
    "\n",
    "See below for accuracy and loss comparison between Element-wise Multiplication and MCB models both using regular categorical cross entropy and RelU activation."
   ]
  },
  {
   "cell_type": "markdown",
   "metadata": {},
   "source": [
    "Accuracy Comparison | Loss Comparison\n",
    "- | - \n",
    "<img src = './images_for_notebook/mcb_acc.png'> | <img src= './images_for_notebook/mcb_loss.png'>"
   ]
  },
  {
   "cell_type": "markdown",
   "metadata": {},
   "source": [
    "## Final Results\n",
    "\n",
    "The final results are summarized in the table below. Overall, our best model performance (highlighted in green) was the VGG based model with soft cross entropy loss and ReLU activations (and dropout of 0.5 during training).  <br>\n",
    "\n",
    "**Top answer accuracy** is the percentage of the time that the model output the most common answer given by the 10 human respondents. \n",
    "\n",
    "**VQA Evaluation Accuracy** gives partial credit for cases where the model outputs an answer that was given by at least 1 human responded. \n",
    "\n",
    "**Top 10 Answer Accuracy** is the percentage of the time that the model output an answer that matched with at least 1 of the human generated answers. \n",
    "\n",
    "For reference, the top 3 overall model accuracies from the [2016 VQA v1.0 challenge](http://www.visualqa.org/roe.html) were 66.9%, 64.89%, and 63.97%. These 3 reported accuracies would most closely match our **VQA Evaluation Accuracy** statistic, although there is a slight difference in the formula used. (In the case of the VQA challenge, model [\"accuracies are averaged over all 10 choose 9 sets of human annotators\"](http://www.visualqa.org/evaluation.html)). More importantly, **these accuracies are on a different dataset** (ours are using vqa v1.0 \"validation\" and these used vqa v1.0 \"testing\"). \n"
   ]
  },
  {
   "cell_type": "markdown",
   "metadata": {},
   "source": [
    "![Model Performance](./images_for_notebook/final_results.png)"
   ]
  },
  {
   "cell_type": "markdown",
   "metadata": {},
   "source": [
    "## Other Work\n",
    "\n",
    "A substantial amount of time was invested in creating a model that implemented attention but to little avail. \n",
    "\n",
    "The team did succeed in defining the attention architecture proposed in this [paper](https://arxiv.org/pdf/1708.02711.pdf), the VQA v2.0 winner. Generally, the architecture involves looked at the 2048 channel feature vector for a (7,7) grid over the image. For the 49 grid squares, the 2048 channel embedding is concatenated with the question embedding out of the LSTM. The result is then passed through several fully connected layers to create an attention vector of length 49. That 49 element attention vector is then multiplied with the (49,2048) original image embedding to return a (1,2048) image embedding. \n",
    "\n",
    "This image embedding is shrunk to 512 elements via a dense layer. It is then combined with the original question embedding via elementwise multiplication and passed through dense layers, retaining pretty much the same architecture as in our original model. \n",
    "\n",
    "The main challenge run into was actually in creating the (7,7,2048) size embedding for each image in the dataset. This involved running all 80k images in the dataset through ResNet50 and extracting information from the appropriate layer. However, once generated, this resulted in a dataset that was prohibitively large (>40GB). \n",
    "\n",
    "Because of how large the dataset was, it could no longer be completely loaded into memory, which meant we had to write a DataGenerator function to batch the loading of the dataset. "
   ]
  },
  {
   "cell_type": "markdown",
   "metadata": {},
   "source": [
    "### Small Scale Testing \n",
    "A better approach would have been to create a smaller subset of the dataset just to check if the model was working. Eventually, we created an 8600 element dataset of 49x2048 resnet image embeddings (flattened from the 7x7x2048 output) and questions, and tested the model to see if it could fit this data. The model accuracy never got above 26% on the training data, however, and the loss function stopped decreasing after 10-20 epochs. This suggests a bug in the model architecture, or some other hyperparameter tuning is required (perhaps a vanishing gradient problem explaining why the model gets stuck). Batch normalization on the input image embedding was tried, as well as switching out some of the dense layer activation functions with ReLU, but this did not lead to any improvement. \n"
   ]
  },
  {
   "cell_type": "code",
   "execution_count": 5,
   "metadata": {},
   "outputs": [],
   "source": [
    "from attention_model import get_model_w_attn"
   ]
  },
  {
   "cell_type": "code",
   "execution_count": 6,
   "metadata": {},
   "outputs": [
    {
     "name": "stdout",
     "output_type": "stream",
     "text": [
      "Found matrix so no need to recompute!\n",
      "Creating functional text model...\n",
      "Creating functional image model...\n"
     ]
    }
   ],
   "source": [
    "m_w_attn = get_model_w_attn()"
   ]
  },
  {
   "cell_type": "code",
   "execution_count": 7,
   "metadata": {},
   "outputs": [
    {
     "data": {
      "image/svg+xml": [
       "<svg height=\"1187pt\" viewBox=\"0.00 0.00 602.15 1187.00\" width=\"602pt\" xmlns=\"http://www.w3.org/2000/svg\" xmlns:xlink=\"http://www.w3.org/1999/xlink\">\n",
       "<g class=\"graph\" id=\"graph0\" transform=\"scale(1 1) rotate(0) translate(4 1183)\">\n",
       "<title>G</title>\n",
       "<polygon fill=\"#ffffff\" points=\"-4,4 -4,-1183 598.1484,-1183 598.1484,4 -4,4\" stroke=\"transparent\"/>\n",
       "<!-- 4770288080 -->\n",
       "<g class=\"node\" id=\"node1\">\n",
       "<title>4770288080</title>\n",
       "<polygon fill=\"none\" points=\"44.8931,-1134.5 44.8931,-1178.5 255.4038,-1178.5 255.4038,-1134.5 44.8931,-1134.5\" stroke=\"#000000\"/>\n",
       "<text fill=\"#000000\" font-family=\"Times,serif\" font-size=\"14.00\" text-anchor=\"middle\" x=\"83.9897\" y=\"-1152.3\">InputLayer</text>\n",
       "<polyline fill=\"none\" points=\"123.0864,-1134.5 123.0864,-1178.5 \" stroke=\"#000000\"/>\n",
       "<text fill=\"#000000\" font-family=\"Times,serif\" font-size=\"14.00\" text-anchor=\"middle\" x=\"150.9209\" y=\"-1163.3\">input:</text>\n",
       "<polyline fill=\"none\" points=\"123.0864,-1156.5 178.7554,-1156.5 \" stroke=\"#000000\"/>\n",
       "<text fill=\"#000000\" font-family=\"Times,serif\" font-size=\"14.00\" text-anchor=\"middle\" x=\"150.9209\" y=\"-1141.3\">output:</text>\n",
       "<polyline fill=\"none\" points=\"178.7554,-1134.5 178.7554,-1178.5 \" stroke=\"#000000\"/>\n",
       "<text fill=\"#000000\" font-family=\"Times,serif\" font-size=\"14.00\" text-anchor=\"middle\" x=\"217.0796\" y=\"-1163.3\">(None, 26)</text>\n",
       "<polyline fill=\"none\" points=\"178.7554,-1156.5 255.4038,-1156.5 \" stroke=\"#000000\"/>\n",
       "<text fill=\"#000000\" font-family=\"Times,serif\" font-size=\"14.00\" text-anchor=\"middle\" x=\"217.0796\" y=\"-1141.3\">(None, 26)</text>\n",
       "</g>\n",
       "<!-- 4770287856 -->\n",
       "<g class=\"node\" id=\"node2\">\n",
       "<title>4770287856</title>\n",
       "<polygon fill=\"none\" points=\"29.7173,-1053.5 29.7173,-1097.5 270.5796,-1097.5 270.5796,-1053.5 29.7173,-1053.5\" stroke=\"#000000\"/>\n",
       "<text fill=\"#000000\" font-family=\"Times,serif\" font-size=\"14.00\" text-anchor=\"middle\" x=\"69.9897\" y=\"-1071.3\">Embedding</text>\n",
       "<polyline fill=\"none\" points=\"110.2622,-1053.5 110.2622,-1097.5 \" stroke=\"#000000\"/>\n",
       "<text fill=\"#000000\" font-family=\"Times,serif\" font-size=\"14.00\" text-anchor=\"middle\" x=\"138.0967\" y=\"-1082.3\">input:</text>\n",
       "<polyline fill=\"none\" points=\"110.2622,-1075.5 165.9312,-1075.5 \" stroke=\"#000000\"/>\n",
       "<text fill=\"#000000\" font-family=\"Times,serif\" font-size=\"14.00\" text-anchor=\"middle\" x=\"138.0967\" y=\"-1060.3\">output:</text>\n",
       "<polyline fill=\"none\" points=\"165.9312,-1053.5 165.9312,-1097.5 \" stroke=\"#000000\"/>\n",
       "<text fill=\"#000000\" font-family=\"Times,serif\" font-size=\"14.00\" text-anchor=\"middle\" x=\"218.2554\" y=\"-1082.3\">(None, 26)</text>\n",
       "<polyline fill=\"none\" points=\"165.9312,-1075.5 270.5796,-1075.5 \" stroke=\"#000000\"/>\n",
       "<text fill=\"#000000\" font-family=\"Times,serif\" font-size=\"14.00\" text-anchor=\"middle\" x=\"218.2554\" y=\"-1060.3\">(None, 26, 300)</text>\n",
       "</g>\n",
       "<!-- 4770288080&#45;&gt;4770287856 -->\n",
       "<g class=\"edge\" id=\"edge1\">\n",
       "<title>4770288080-&gt;4770287856</title>\n",
       "<path d=\"M150.1484,-1134.3664C150.1484,-1126.1516 150.1484,-1116.6579 150.1484,-1107.7252\" fill=\"none\" stroke=\"#000000\"/>\n",
       "<polygon fill=\"#000000\" points=\"153.6485,-1107.6068 150.1484,-1097.6068 146.6485,-1107.6069 153.6485,-1107.6068\" stroke=\"#000000\"/>\n",
       "</g>\n",
       "<!-- 4770059656 -->\n",
       "<g class=\"node\" id=\"node3\">\n",
       "<title>4770059656</title>\n",
       "<polygon fill=\"none\" points=\"43.3208,-972.5 43.3208,-1016.5 256.9761,-1016.5 256.9761,-972.5 43.3208,-972.5\" stroke=\"#000000\"/>\n",
       "<text fill=\"#000000\" font-family=\"Times,serif\" font-size=\"14.00\" text-anchor=\"middle\" x=\"69.9897\" y=\"-990.3\">LSTM</text>\n",
       "<polyline fill=\"none\" points=\"96.6587,-972.5 96.6587,-1016.5 \" stroke=\"#000000\"/>\n",
       "<text fill=\"#000000\" font-family=\"Times,serif\" font-size=\"14.00\" text-anchor=\"middle\" x=\"124.4932\" y=\"-1001.3\">input:</text>\n",
       "<polyline fill=\"none\" points=\"96.6587,-994.5 152.3276,-994.5 \" stroke=\"#000000\"/>\n",
       "<text fill=\"#000000\" font-family=\"Times,serif\" font-size=\"14.00\" text-anchor=\"middle\" x=\"124.4932\" y=\"-979.3\">output:</text>\n",
       "<polyline fill=\"none\" points=\"152.3276,-972.5 152.3276,-1016.5 \" stroke=\"#000000\"/>\n",
       "<text fill=\"#000000\" font-family=\"Times,serif\" font-size=\"14.00\" text-anchor=\"middle\" x=\"204.6519\" y=\"-1001.3\">(None, 26, 300)</text>\n",
       "<polyline fill=\"none\" points=\"152.3276,-994.5 256.9761,-994.5 \" stroke=\"#000000\"/>\n",
       "<text fill=\"#000000\" font-family=\"Times,serif\" font-size=\"14.00\" text-anchor=\"middle\" x=\"204.6519\" y=\"-979.3\">(None, 26, 512)</text>\n",
       "</g>\n",
       "<!-- 4770287856&#45;&gt;4770059656 -->\n",
       "<g class=\"edge\" id=\"edge2\">\n",
       "<title>4770287856-&gt;4770059656</title>\n",
       "<path d=\"M150.1484,-1053.3664C150.1484,-1045.1516 150.1484,-1035.6579 150.1484,-1026.7252\" fill=\"none\" stroke=\"#000000\"/>\n",
       "<polygon fill=\"#000000\" points=\"153.6485,-1026.6068 150.1484,-1016.6068 146.6485,-1026.6069 153.6485,-1026.6068\" stroke=\"#000000\"/>\n",
       "</g>\n",
       "<!-- 4770075536 -->\n",
       "<g class=\"node\" id=\"node4\">\n",
       "<title>4770075536</title>\n",
       "<polygon fill=\"none\" points=\"38.6587,-891.5 38.6587,-935.5 261.6382,-935.5 261.6382,-891.5 38.6587,-891.5\" stroke=\"#000000\"/>\n",
       "<text fill=\"#000000\" font-family=\"Times,serif\" font-size=\"14.00\" text-anchor=\"middle\" x=\"69.9897\" y=\"-909.3\">Dropout</text>\n",
       "<polyline fill=\"none\" points=\"101.3208,-891.5 101.3208,-935.5 \" stroke=\"#000000\"/>\n",
       "<text fill=\"#000000\" font-family=\"Times,serif\" font-size=\"14.00\" text-anchor=\"middle\" x=\"129.1553\" y=\"-920.3\">input:</text>\n",
       "<polyline fill=\"none\" points=\"101.3208,-913.5 156.9897,-913.5 \" stroke=\"#000000\"/>\n",
       "<text fill=\"#000000\" font-family=\"Times,serif\" font-size=\"14.00\" text-anchor=\"middle\" x=\"129.1553\" y=\"-898.3\">output:</text>\n",
       "<polyline fill=\"none\" points=\"156.9897,-891.5 156.9897,-935.5 \" stroke=\"#000000\"/>\n",
       "<text fill=\"#000000\" font-family=\"Times,serif\" font-size=\"14.00\" text-anchor=\"middle\" x=\"209.314\" y=\"-920.3\">(None, 26, 512)</text>\n",
       "<polyline fill=\"none\" points=\"156.9897,-913.5 261.6382,-913.5 \" stroke=\"#000000\"/>\n",
       "<text fill=\"#000000\" font-family=\"Times,serif\" font-size=\"14.00\" text-anchor=\"middle\" x=\"209.314\" y=\"-898.3\">(None, 26, 512)</text>\n",
       "</g>\n",
       "<!-- 4770059656&#45;&gt;4770075536 -->\n",
       "<g class=\"edge\" id=\"edge3\">\n",
       "<title>4770059656-&gt;4770075536</title>\n",
       "<path d=\"M150.1484,-972.3664C150.1484,-964.1516 150.1484,-954.6579 150.1484,-945.7252\" fill=\"none\" stroke=\"#000000\"/>\n",
       "<polygon fill=\"#000000\" points=\"153.6485,-945.6068 150.1484,-935.6068 146.6485,-945.6069 153.6485,-945.6068\" stroke=\"#000000\"/>\n",
       "</g>\n",
       "<!-- 4770308560 -->\n",
       "<g class=\"node\" id=\"node5\">\n",
       "<title>4770308560</title>\n",
       "<polygon fill=\"none\" points=\"43.3208,-810.5 43.3208,-854.5 256.9761,-854.5 256.9761,-810.5 43.3208,-810.5\" stroke=\"#000000\"/>\n",
       "<text fill=\"#000000\" font-family=\"Times,serif\" font-size=\"14.00\" text-anchor=\"middle\" x=\"69.9897\" y=\"-828.3\">LSTM</text>\n",
       "<polyline fill=\"none\" points=\"96.6587,-810.5 96.6587,-854.5 \" stroke=\"#000000\"/>\n",
       "<text fill=\"#000000\" font-family=\"Times,serif\" font-size=\"14.00\" text-anchor=\"middle\" x=\"124.4932\" y=\"-839.3\">input:</text>\n",
       "<polyline fill=\"none\" points=\"96.6587,-832.5 152.3276,-832.5 \" stroke=\"#000000\"/>\n",
       "<text fill=\"#000000\" font-family=\"Times,serif\" font-size=\"14.00\" text-anchor=\"middle\" x=\"124.4932\" y=\"-817.3\">output:</text>\n",
       "<polyline fill=\"none\" points=\"152.3276,-810.5 152.3276,-854.5 \" stroke=\"#000000\"/>\n",
       "<text fill=\"#000000\" font-family=\"Times,serif\" font-size=\"14.00\" text-anchor=\"middle\" x=\"204.6519\" y=\"-839.3\">(None, 26, 512)</text>\n",
       "<polyline fill=\"none\" points=\"152.3276,-832.5 256.9761,-832.5 \" stroke=\"#000000\"/>\n",
       "<text fill=\"#000000\" font-family=\"Times,serif\" font-size=\"14.00\" text-anchor=\"middle\" x=\"204.6519\" y=\"-817.3\">(None, 512)</text>\n",
       "</g>\n",
       "<!-- 4770075536&#45;&gt;4770308560 -->\n",
       "<g class=\"edge\" id=\"edge4\">\n",
       "<title>4770075536-&gt;4770308560</title>\n",
       "<path d=\"M150.1484,-891.3664C150.1484,-883.1516 150.1484,-873.6579 150.1484,-864.7252\" fill=\"none\" stroke=\"#000000\"/>\n",
       "<polygon fill=\"#000000\" points=\"153.6485,-864.6068 150.1484,-854.6068 146.6485,-864.6069 153.6485,-864.6068\" stroke=\"#000000\"/>\n",
       "</g>\n",
       "<!-- 4643827664 -->\n",
       "<g class=\"node\" id=\"node7\">\n",
       "<title>4643827664</title>\n",
       "<polygon fill=\"none\" points=\"187.5688,-729.5 187.5688,-773.5 500.728,-773.5 500.728,-729.5 187.5688,-729.5\" stroke=\"#000000\"/>\n",
       "<text fill=\"#000000\" font-family=\"Times,serif\" font-size=\"14.00\" text-anchor=\"middle\" x=\"218.5034\" y=\"-747.3\">Lambda</text>\n",
       "<polyline fill=\"none\" points=\"249.438,-729.5 249.438,-773.5 \" stroke=\"#000000\"/>\n",
       "<text fill=\"#000000\" font-family=\"Times,serif\" font-size=\"14.00\" text-anchor=\"middle\" x=\"277.2725\" y=\"-758.3\">input:</text>\n",
       "<polyline fill=\"none\" points=\"249.438,-751.5 305.1069,-751.5 \" stroke=\"#000000\"/>\n",
       "<text fill=\"#000000\" font-family=\"Times,serif\" font-size=\"14.00\" text-anchor=\"middle\" x=\"277.2725\" y=\"-736.3\">output:</text>\n",
       "<polyline fill=\"none\" points=\"305.1069,-729.5 305.1069,-773.5 \" stroke=\"#000000\"/>\n",
       "<text fill=\"#000000\" font-family=\"Times,serif\" font-size=\"14.00\" text-anchor=\"middle\" x=\"402.9175\" y=\"-758.3\">[(None, 512), (None, 49, 2048)]</text>\n",
       "<polyline fill=\"none\" points=\"305.1069,-751.5 500.728,-751.5 \" stroke=\"#000000\"/>\n",
       "<text fill=\"#000000\" font-family=\"Times,serif\" font-size=\"14.00\" text-anchor=\"middle\" x=\"402.4312\" y=\"-736.3\">(None, 49, 2560)</text>\n",
       "</g>\n",
       "<!-- 4770308560&#45;&gt;4643827664 -->\n",
       "<g class=\"edge\" id=\"edge5\">\n",
       "<title>4770308560-&gt;4643827664</title>\n",
       "<path d=\"M202.9035,-810.4734C227.2789,-800.296 256.3983,-788.1379 281.8475,-777.5123\" fill=\"none\" stroke=\"#000000\"/>\n",
       "<polygon fill=\"#000000\" points=\"283.5244,-780.605 291.4038,-773.5222 280.8273,-774.1454 283.5244,-780.605\" stroke=\"#000000\"/>\n",
       "</g>\n",
       "<!-- 4640543576 -->\n",
       "<g class=\"node\" id=\"node15\">\n",
       "<title>4640543576</title>\n",
       "<polygon fill=\"none\" points=\"0,-162.5 0,-206.5 302.2969,-206.5 302.2969,-162.5 0,-162.5\" stroke=\"#000000\"/>\n",
       "<text fill=\"#000000\" font-family=\"Times,serif\" font-size=\"14.00\" text-anchor=\"middle\" x=\"32.5034\" y=\"-180.3\">Multiply</text>\n",
       "<polyline fill=\"none\" points=\"65.0068,-162.5 65.0068,-206.5 \" stroke=\"#000000\"/>\n",
       "<text fill=\"#000000\" font-family=\"Times,serif\" font-size=\"14.00\" text-anchor=\"middle\" x=\"92.8413\" y=\"-191.3\">input:</text>\n",
       "<polyline fill=\"none\" points=\"65.0068,-184.5 120.6758,-184.5 \" stroke=\"#000000\"/>\n",
       "<text fill=\"#000000\" font-family=\"Times,serif\" font-size=\"14.00\" text-anchor=\"middle\" x=\"92.8413\" y=\"-169.3\">output:</text>\n",
       "<polyline fill=\"none\" points=\"120.6758,-162.5 120.6758,-206.5 \" stroke=\"#000000\"/>\n",
       "<text fill=\"#000000\" font-family=\"Times,serif\" font-size=\"14.00\" text-anchor=\"middle\" x=\"211.4863\" y=\"-191.3\">[(None, 1, 512), (None, 512)]</text>\n",
       "<polyline fill=\"none\" points=\"120.6758,-184.5 302.2969,-184.5 \" stroke=\"#000000\"/>\n",
       "<text fill=\"#000000\" font-family=\"Times,serif\" font-size=\"14.00\" text-anchor=\"middle\" x=\"211\" y=\"-169.3\">(None, 1, 512)</text>\n",
       "</g>\n",
       "<!-- 4770308560&#45;&gt;4640543576 -->\n",
       "<g class=\"edge\" id=\"edge17\">\n",
       "<title>4770308560-&gt;4640543576</title>\n",
       "<path d=\"M134.6744,-810.3288C115.1668,-780.1557 84.1484,-723.7985 84.1484,-670.5 84.1484,-670.5 84.1484,-670.5 84.1484,-346.5 84.1484,-297.8847 110.2328,-246.8671 129.8507,-215.372\" fill=\"none\" stroke=\"#000000\"/>\n",
       "<polygon fill=\"#000000\" points=\"132.9983,-216.9466 135.4399,-206.6369 127.102,-213.1737 132.9983,-216.9466\" stroke=\"#000000\"/>\n",
       "</g>\n",
       "<!-- 4643893432 -->\n",
       "<g class=\"node\" id=\"node6\">\n",
       "<title>4643893432</title>\n",
       "<polygon fill=\"none\" points=\"313.3931,-810.5 313.3931,-854.5 558.9038,-854.5 558.9038,-810.5 313.3931,-810.5\" stroke=\"#000000\"/>\n",
       "<text fill=\"#000000\" font-family=\"Times,serif\" font-size=\"14.00\" text-anchor=\"middle\" x=\"352.4897\" y=\"-828.3\">InputLayer</text>\n",
       "<polyline fill=\"none\" points=\"391.5864,-810.5 391.5864,-854.5 \" stroke=\"#000000\"/>\n",
       "<text fill=\"#000000\" font-family=\"Times,serif\" font-size=\"14.00\" text-anchor=\"middle\" x=\"419.4209\" y=\"-839.3\">input:</text>\n",
       "<polyline fill=\"none\" points=\"391.5864,-832.5 447.2554,-832.5 \" stroke=\"#000000\"/>\n",
       "<text fill=\"#000000\" font-family=\"Times,serif\" font-size=\"14.00\" text-anchor=\"middle\" x=\"419.4209\" y=\"-817.3\">output:</text>\n",
       "<polyline fill=\"none\" points=\"447.2554,-810.5 447.2554,-854.5 \" stroke=\"#000000\"/>\n",
       "<text fill=\"#000000\" font-family=\"Times,serif\" font-size=\"14.00\" text-anchor=\"middle\" x=\"503.0796\" y=\"-839.3\">(None, 49, 2048)</text>\n",
       "<polyline fill=\"none\" points=\"447.2554,-832.5 558.9038,-832.5 \" stroke=\"#000000\"/>\n",
       "<text fill=\"#000000\" font-family=\"Times,serif\" font-size=\"14.00\" text-anchor=\"middle\" x=\"503.0796\" y=\"-817.3\">(None, 49, 2048)</text>\n",
       "</g>\n",
       "<!-- 4643893432&#45;&gt;4643827664 -->\n",
       "<g class=\"edge\" id=\"edge6\">\n",
       "<title>4643893432-&gt;4643827664</title>\n",
       "<path d=\"M411.009,-810.3664C400.4617,-801.0802 388.058,-790.1595 376.8169,-780.2625\" fill=\"none\" stroke=\"#000000\"/>\n",
       "<polygon fill=\"#000000\" points=\"379.0758,-777.5881 369.2574,-773.6068 374.4501,-782.8419 379.0758,-777.5881\" stroke=\"#000000\"/>\n",
       "</g>\n",
       "<!-- 4640659664 -->\n",
       "<g class=\"node\" id=\"node13\">\n",
       "<title>4640659664</title>\n",
       "<polygon fill=\"none\" points=\"190.0688,-324.5 190.0688,-368.5 510.228,-368.5 510.228,-324.5 190.0688,-324.5\" stroke=\"#000000\"/>\n",
       "<text fill=\"#000000\" font-family=\"Times,serif\" font-size=\"14.00\" text-anchor=\"middle\" x=\"221.0034\" y=\"-342.3\">Lambda</text>\n",
       "<polyline fill=\"none\" points=\"251.938,-324.5 251.938,-368.5 \" stroke=\"#000000\"/>\n",
       "<text fill=\"#000000\" font-family=\"Times,serif\" font-size=\"14.00\" text-anchor=\"middle\" x=\"279.7725\" y=\"-353.3\">input:</text>\n",
       "<polyline fill=\"none\" points=\"251.938,-346.5 307.6069,-346.5 \" stroke=\"#000000\"/>\n",
       "<text fill=\"#000000\" font-family=\"Times,serif\" font-size=\"14.00\" text-anchor=\"middle\" x=\"279.7725\" y=\"-331.3\">output:</text>\n",
       "<polyline fill=\"none\" points=\"307.6069,-324.5 307.6069,-368.5 \" stroke=\"#000000\"/>\n",
       "<text fill=\"#000000\" font-family=\"Times,serif\" font-size=\"14.00\" text-anchor=\"middle\" x=\"408.9175\" y=\"-353.3\">[(None, 1, 49), (None, 49, 2048)]</text>\n",
       "<polyline fill=\"none\" points=\"307.6069,-346.5 510.228,-346.5 \" stroke=\"#000000\"/>\n",
       "<text fill=\"#000000\" font-family=\"Times,serif\" font-size=\"14.00\" text-anchor=\"middle\" x=\"408.4312\" y=\"-331.3\">(None, 1, 2048)</text>\n",
       "</g>\n",
       "<!-- 4643893432&#45;&gt;4640659664 -->\n",
       "<g class=\"edge\" id=\"edge14\">\n",
       "<title>4643893432-&gt;4640659664</title>\n",
       "<path d=\"M481.4249,-810.4545C528.1136,-784.1775 594.1484,-735.5196 594.1484,-670.5 594.1484,-670.5 594.1484,-670.5 594.1484,-508.5 594.1484,-436.8943 520.313,-395.0465 453.8752,-371.8855\" fill=\"none\" stroke=\"#000000\"/>\n",
       "<polygon fill=\"#000000\" points=\"454.7303,-368.4804 444.1362,-368.6026 452.4943,-375.1136 454.7303,-368.4804\" stroke=\"#000000\"/>\n",
       "</g>\n",
       "<!-- 4770307488 -->\n",
       "<g class=\"node\" id=\"node8\">\n",
       "<title>4770307488</title>\n",
       "<polygon fill=\"none\" points=\"111.9966,-648.5 111.9966,-692.5 330.3003,-692.5 330.3003,-648.5 111.9966,-648.5\" stroke=\"#000000\"/>\n",
       "<text fill=\"#000000\" font-family=\"Times,serif\" font-size=\"14.00\" text-anchor=\"middle\" x=\"137.4897\" y=\"-666.3\">Dense</text>\n",
       "<polyline fill=\"none\" points=\"162.9829,-648.5 162.9829,-692.5 \" stroke=\"#000000\"/>\n",
       "<text fill=\"#000000\" font-family=\"Times,serif\" font-size=\"14.00\" text-anchor=\"middle\" x=\"190.8174\" y=\"-677.3\">input:</text>\n",
       "<polyline fill=\"none\" points=\"162.9829,-670.5 218.6519,-670.5 \" stroke=\"#000000\"/>\n",
       "<text fill=\"#000000\" font-family=\"Times,serif\" font-size=\"14.00\" text-anchor=\"middle\" x=\"190.8174\" y=\"-655.3\">output:</text>\n",
       "<polyline fill=\"none\" points=\"218.6519,-648.5 218.6519,-692.5 \" stroke=\"#000000\"/>\n",
       "<text fill=\"#000000\" font-family=\"Times,serif\" font-size=\"14.00\" text-anchor=\"middle\" x=\"274.4761\" y=\"-677.3\">(None, 49, 2560)</text>\n",
       "<polyline fill=\"none\" points=\"218.6519,-670.5 330.3003,-670.5 \" stroke=\"#000000\"/>\n",
       "<text fill=\"#000000\" font-family=\"Times,serif\" font-size=\"14.00\" text-anchor=\"middle\" x=\"274.4761\" y=\"-655.3\">(None, 49, 1024)</text>\n",
       "</g>\n",
       "<!-- 4643827664&#45;&gt;4770307488 -->\n",
       "<g class=\"edge\" id=\"edge7\">\n",
       "<title>4643827664-&gt;4770307488</title>\n",
       "<path d=\"M310.5381,-729.3664C295.8945,-719.723 278.5743,-708.3171 263.0978,-698.1252\" fill=\"none\" stroke=\"#000000\"/>\n",
       "<polygon fill=\"#000000\" points=\"264.9948,-695.1837 254.7181,-692.6068 261.1448,-701.0299 264.9948,-695.1837\" stroke=\"#000000\"/>\n",
       "</g>\n",
       "<!-- 4638929192 -->\n",
       "<g class=\"node\" id=\"node9\">\n",
       "<title>4638929192</title>\n",
       "<polygon fill=\"none\" points=\"347.9966,-648.5 347.9966,-692.5 566.3003,-692.5 566.3003,-648.5 347.9966,-648.5\" stroke=\"#000000\"/>\n",
       "<text fill=\"#000000\" font-family=\"Times,serif\" font-size=\"14.00\" text-anchor=\"middle\" x=\"373.4897\" y=\"-666.3\">Dense</text>\n",
       "<polyline fill=\"none\" points=\"398.9829,-648.5 398.9829,-692.5 \" stroke=\"#000000\"/>\n",
       "<text fill=\"#000000\" font-family=\"Times,serif\" font-size=\"14.00\" text-anchor=\"middle\" x=\"426.8174\" y=\"-677.3\">input:</text>\n",
       "<polyline fill=\"none\" points=\"398.9829,-670.5 454.6519,-670.5 \" stroke=\"#000000\"/>\n",
       "<text fill=\"#000000\" font-family=\"Times,serif\" font-size=\"14.00\" text-anchor=\"middle\" x=\"426.8174\" y=\"-655.3\">output:</text>\n",
       "<polyline fill=\"none\" points=\"454.6519,-648.5 454.6519,-692.5 \" stroke=\"#000000\"/>\n",
       "<text fill=\"#000000\" font-family=\"Times,serif\" font-size=\"14.00\" text-anchor=\"middle\" x=\"510.4761\" y=\"-677.3\">(None, 49, 2560)</text>\n",
       "<polyline fill=\"none\" points=\"454.6519,-670.5 566.3003,-670.5 \" stroke=\"#000000\"/>\n",
       "<text fill=\"#000000\" font-family=\"Times,serif\" font-size=\"14.00\" text-anchor=\"middle\" x=\"510.4761\" y=\"-655.3\">(None, 49, 1024)</text>\n",
       "</g>\n",
       "<!-- 4643827664&#45;&gt;4638929192 -->\n",
       "<g class=\"edge\" id=\"edge8\">\n",
       "<title>4643827664-&gt;4638929192</title>\n",
       "<path d=\"M375.0262,-729.3664C388.2302,-719.9016 403.8028,-708.7389 417.818,-698.6926\" fill=\"none\" stroke=\"#000000\"/>\n",
       "<polygon fill=\"#000000\" points=\"420.2195,-701.2775 426.308,-692.6068 416.1413,-695.5882 420.2195,-701.2775\" stroke=\"#000000\"/>\n",
       "</g>\n",
       "<!-- 4770501016 -->\n",
       "<g class=\"node\" id=\"node10\">\n",
       "<title>4770501016</title>\n",
       "<polygon fill=\"none\" points=\"178,-567.5 178,-611.5 522.2969,-611.5 522.2969,-567.5 178,-567.5\" stroke=\"#000000\"/>\n",
       "<text fill=\"#000000\" font-family=\"Times,serif\" font-size=\"14.00\" text-anchor=\"middle\" x=\"210.5034\" y=\"-585.3\">Multiply</text>\n",
       "<polyline fill=\"none\" points=\"243.0068,-567.5 243.0068,-611.5 \" stroke=\"#000000\"/>\n",
       "<text fill=\"#000000\" font-family=\"Times,serif\" font-size=\"14.00\" text-anchor=\"middle\" x=\"270.8413\" y=\"-596.3\">input:</text>\n",
       "<polyline fill=\"none\" points=\"243.0068,-589.5 298.6758,-589.5 \" stroke=\"#000000\"/>\n",
       "<text fill=\"#000000\" font-family=\"Times,serif\" font-size=\"14.00\" text-anchor=\"middle\" x=\"270.8413\" y=\"-574.3\">output:</text>\n",
       "<polyline fill=\"none\" points=\"298.6758,-567.5 298.6758,-611.5 \" stroke=\"#000000\"/>\n",
       "<text fill=\"#000000\" font-family=\"Times,serif\" font-size=\"14.00\" text-anchor=\"middle\" x=\"410.4863\" y=\"-596.3\">[(None, 49, 1024), (None, 49, 1024)]</text>\n",
       "<polyline fill=\"none\" points=\"298.6758,-589.5 522.2969,-589.5 \" stroke=\"#000000\"/>\n",
       "<text fill=\"#000000\" font-family=\"Times,serif\" font-size=\"14.00\" text-anchor=\"middle\" x=\"410\" y=\"-574.3\">(None, 49, 1024)</text>\n",
       "</g>\n",
       "<!-- 4770307488&#45;&gt;4770501016 -->\n",
       "<g class=\"edge\" id=\"edge9\">\n",
       "<title>4770307488-&gt;4770501016</title>\n",
       "<path d=\"M256.3983,-648.3664C271.7563,-638.723 289.9213,-627.3171 306.1528,-617.1252\" fill=\"none\" stroke=\"#000000\"/>\n",
       "<polygon fill=\"#000000\" points=\"308.3335,-619.8887 314.9412,-611.6068 304.6111,-613.9605 308.3335,-619.8887\" stroke=\"#000000\"/>\n",
       "</g>\n",
       "<!-- 4638929192&#45;&gt;4770501016 -->\n",
       "<g class=\"edge\" id=\"edge10\">\n",
       "<title>4638929192-&gt;4770501016</title>\n",
       "<path d=\"M427.9102,-648.3664C415.4073,-638.9016 400.6615,-627.7389 387.3906,-617.6926\" fill=\"none\" stroke=\"#000000\"/>\n",
       "<polygon fill=\"#000000\" points=\"389.4369,-614.852 379.3513,-611.6068 385.2119,-620.4332 389.4369,-614.852\" stroke=\"#000000\"/>\n",
       "</g>\n",
       "<!-- 4640652480 -->\n",
       "<g class=\"node\" id=\"node11\">\n",
       "<title>4640652480</title>\n",
       "<polygon fill=\"none\" points=\"240.9966,-486.5 240.9966,-530.5 459.3003,-530.5 459.3003,-486.5 240.9966,-486.5\" stroke=\"#000000\"/>\n",
       "<text fill=\"#000000\" font-family=\"Times,serif\" font-size=\"14.00\" text-anchor=\"middle\" x=\"266.4897\" y=\"-504.3\">Dense</text>\n",
       "<polyline fill=\"none\" points=\"291.9829,-486.5 291.9829,-530.5 \" stroke=\"#000000\"/>\n",
       "<text fill=\"#000000\" font-family=\"Times,serif\" font-size=\"14.00\" text-anchor=\"middle\" x=\"319.8174\" y=\"-515.3\">input:</text>\n",
       "<polyline fill=\"none\" points=\"291.9829,-508.5 347.6519,-508.5 \" stroke=\"#000000\"/>\n",
       "<text fill=\"#000000\" font-family=\"Times,serif\" font-size=\"14.00\" text-anchor=\"middle\" x=\"319.8174\" y=\"-493.3\">output:</text>\n",
       "<polyline fill=\"none\" points=\"347.6519,-486.5 347.6519,-530.5 \" stroke=\"#000000\"/>\n",
       "<text fill=\"#000000\" font-family=\"Times,serif\" font-size=\"14.00\" text-anchor=\"middle\" x=\"403.4761\" y=\"-515.3\">(None, 49, 1024)</text>\n",
       "<polyline fill=\"none\" points=\"347.6519,-508.5 459.3003,-508.5 \" stroke=\"#000000\"/>\n",
       "<text fill=\"#000000\" font-family=\"Times,serif\" font-size=\"14.00\" text-anchor=\"middle\" x=\"403.4761\" y=\"-493.3\">(None, 49, 1)</text>\n",
       "</g>\n",
       "<!-- 4770501016&#45;&gt;4640652480 -->\n",
       "<g class=\"edge\" id=\"edge11\">\n",
       "<title>4770501016-&gt;4640652480</title>\n",
       "<path d=\"M350.1484,-567.3664C350.1484,-559.1516 350.1484,-549.6579 350.1484,-540.7252\" fill=\"none\" stroke=\"#000000\"/>\n",
       "<polygon fill=\"#000000\" points=\"353.6485,-540.6068 350.1484,-530.6068 346.6485,-540.6069 353.6485,-540.6068\" stroke=\"#000000\"/>\n",
       "</g>\n",
       "<!-- 4770491416 -->\n",
       "<g class=\"node\" id=\"node12\">\n",
       "<title>4770491416</title>\n",
       "<polygon fill=\"none\" points=\"245.6621,-405.5 245.6621,-449.5 454.6348,-449.5 454.6348,-405.5 245.6621,-405.5\" stroke=\"#000000\"/>\n",
       "<text fill=\"#000000\" font-family=\"Times,serif\" font-size=\"14.00\" text-anchor=\"middle\" x=\"276.9897\" y=\"-423.3\">Permute</text>\n",
       "<polyline fill=\"none\" points=\"308.3174,-405.5 308.3174,-449.5 \" stroke=\"#000000\"/>\n",
       "<text fill=\"#000000\" font-family=\"Times,serif\" font-size=\"14.00\" text-anchor=\"middle\" x=\"336.1519\" y=\"-434.3\">input:</text>\n",
       "<polyline fill=\"none\" points=\"308.3174,-427.5 363.9863,-427.5 \" stroke=\"#000000\"/>\n",
       "<text fill=\"#000000\" font-family=\"Times,serif\" font-size=\"14.00\" text-anchor=\"middle\" x=\"336.1519\" y=\"-412.3\">output:</text>\n",
       "<polyline fill=\"none\" points=\"363.9863,-405.5 363.9863,-449.5 \" stroke=\"#000000\"/>\n",
       "<text fill=\"#000000\" font-family=\"Times,serif\" font-size=\"14.00\" text-anchor=\"middle\" x=\"409.3105\" y=\"-434.3\">(None, 49, 1)</text>\n",
       "<polyline fill=\"none\" points=\"363.9863,-427.5 454.6348,-427.5 \" stroke=\"#000000\"/>\n",
       "<text fill=\"#000000\" font-family=\"Times,serif\" font-size=\"14.00\" text-anchor=\"middle\" x=\"409.3105\" y=\"-412.3\">(None, 1, 49)</text>\n",
       "</g>\n",
       "<!-- 4640652480&#45;&gt;4770491416 -->\n",
       "<g class=\"edge\" id=\"edge12\">\n",
       "<title>4640652480-&gt;4770491416</title>\n",
       "<path d=\"M350.1484,-486.3664C350.1484,-478.1516 350.1484,-468.6579 350.1484,-459.7252\" fill=\"none\" stroke=\"#000000\"/>\n",
       "<polygon fill=\"#000000\" points=\"353.6485,-459.6068 350.1484,-449.6068 346.6485,-459.6069 353.6485,-459.6068\" stroke=\"#000000\"/>\n",
       "</g>\n",
       "<!-- 4770491416&#45;&gt;4640659664 -->\n",
       "<g class=\"edge\" id=\"edge13\">\n",
       "<title>4770491416-&gt;4640659664</title>\n",
       "<path d=\"M350.1484,-405.3664C350.1484,-397.1516 350.1484,-387.6579 350.1484,-378.7252\" fill=\"none\" stroke=\"#000000\"/>\n",
       "<polygon fill=\"#000000\" points=\"353.6485,-378.6068 350.1484,-368.6068 346.6485,-378.6069 353.6485,-378.6068\" stroke=\"#000000\"/>\n",
       "</g>\n",
       "<!-- 4640617808 -->\n",
       "<g class=\"node\" id=\"node14\">\n",
       "<title>4640617808</title>\n",
       "<polygon fill=\"none\" points=\"200.4966,-243.5 200.4966,-287.5 411.8003,-287.5 411.8003,-243.5 200.4966,-243.5\" stroke=\"#000000\"/>\n",
       "<text fill=\"#000000\" font-family=\"Times,serif\" font-size=\"14.00\" text-anchor=\"middle\" x=\"225.9897\" y=\"-261.3\">Dense</text>\n",
       "<polyline fill=\"none\" points=\"251.4829,-243.5 251.4829,-287.5 \" stroke=\"#000000\"/>\n",
       "<text fill=\"#000000\" font-family=\"Times,serif\" font-size=\"14.00\" text-anchor=\"middle\" x=\"279.3174\" y=\"-272.3\">input:</text>\n",
       "<polyline fill=\"none\" points=\"251.4829,-265.5 307.1519,-265.5 \" stroke=\"#000000\"/>\n",
       "<text fill=\"#000000\" font-family=\"Times,serif\" font-size=\"14.00\" text-anchor=\"middle\" x=\"279.3174\" y=\"-250.3\">output:</text>\n",
       "<polyline fill=\"none\" points=\"307.1519,-243.5 307.1519,-287.5 \" stroke=\"#000000\"/>\n",
       "<text fill=\"#000000\" font-family=\"Times,serif\" font-size=\"14.00\" text-anchor=\"middle\" x=\"359.4761\" y=\"-272.3\">(None, 1, 2048)</text>\n",
       "<polyline fill=\"none\" points=\"307.1519,-265.5 411.8003,-265.5 \" stroke=\"#000000\"/>\n",
       "<text fill=\"#000000\" font-family=\"Times,serif\" font-size=\"14.00\" text-anchor=\"middle\" x=\"359.4761\" y=\"-250.3\">(None, 1, 512)</text>\n",
       "</g>\n",
       "<!-- 4640659664&#45;&gt;4640617808 -->\n",
       "<g class=\"edge\" id=\"edge15\">\n",
       "<title>4640659664-&gt;4640617808</title>\n",
       "<path d=\"M338.1252,-324.3664C333.4689,-315.7945 328.0561,-305.8299 323.0224,-296.5634\" fill=\"none\" stroke=\"#000000\"/>\n",
       "<polygon fill=\"#000000\" points=\"326.006,-294.7234 318.1571,-287.6068 319.8549,-298.0648 326.006,-294.7234\" stroke=\"#000000\"/>\n",
       "</g>\n",
       "<!-- 4640617808&#45;&gt;4640543576 -->\n",
       "<g class=\"edge\" id=\"edge16\">\n",
       "<title>4640617808-&gt;4640543576</title>\n",
       "<path d=\"M263.794,-243.3664C244.828,-233.4551 222.2992,-221.682 202.3917,-211.2787\" fill=\"none\" stroke=\"#000000\"/>\n",
       "<polygon fill=\"#000000\" points=\"203.9355,-208.1364 193.4517,-206.6068 200.6934,-214.3404 203.9355,-208.1364\" stroke=\"#000000\"/>\n",
       "</g>\n",
       "<!-- 4640568544 -->\n",
       "<g class=\"node\" id=\"node16\">\n",
       "<title>4640568544</title>\n",
       "<polygon fill=\"none\" points=\"43.1587,-81.5 43.1587,-125.5 259.1382,-125.5 259.1382,-81.5 43.1587,-81.5\" stroke=\"#000000\"/>\n",
       "<text fill=\"#000000\" font-family=\"Times,serif\" font-size=\"14.00\" text-anchor=\"middle\" x=\"74.4897\" y=\"-99.3\">Dropout</text>\n",
       "<polyline fill=\"none\" points=\"105.8208,-81.5 105.8208,-125.5 \" stroke=\"#000000\"/>\n",
       "<text fill=\"#000000\" font-family=\"Times,serif\" font-size=\"14.00\" text-anchor=\"middle\" x=\"133.6553\" y=\"-110.3\">input:</text>\n",
       "<polyline fill=\"none\" points=\"105.8208,-103.5 161.4897,-103.5 \" stroke=\"#000000\"/>\n",
       "<text fill=\"#000000\" font-family=\"Times,serif\" font-size=\"14.00\" text-anchor=\"middle\" x=\"133.6553\" y=\"-88.3\">output:</text>\n",
       "<polyline fill=\"none\" points=\"161.4897,-81.5 161.4897,-125.5 \" stroke=\"#000000\"/>\n",
       "<text fill=\"#000000\" font-family=\"Times,serif\" font-size=\"14.00\" text-anchor=\"middle\" x=\"210.314\" y=\"-110.3\">(None, 1, 512)</text>\n",
       "<polyline fill=\"none\" points=\"161.4897,-103.5 259.1382,-103.5 \" stroke=\"#000000\"/>\n",
       "<text fill=\"#000000\" font-family=\"Times,serif\" font-size=\"14.00\" text-anchor=\"middle\" x=\"210.314\" y=\"-88.3\">(None, 1, 512)</text>\n",
       "</g>\n",
       "<!-- 4640543576&#45;&gt;4640568544 -->\n",
       "<g class=\"edge\" id=\"edge18\">\n",
       "<title>4640543576-&gt;4640568544</title>\n",
       "<path d=\"M151.1484,-162.3664C151.1484,-154.1516 151.1484,-144.6579 151.1484,-135.7252\" fill=\"none\" stroke=\"#000000\"/>\n",
       "<polygon fill=\"#000000\" points=\"154.6485,-135.6068 151.1484,-125.6068 147.6485,-135.6069 154.6485,-135.6068\" stroke=\"#000000\"/>\n",
       "</g>\n",
       "<!-- 4932725056 -->\n",
       "<g class=\"node\" id=\"node17\">\n",
       "<title>4932725056</title>\n",
       "<polygon fill=\"none\" points=\"45.4966,-.5 45.4966,-44.5 256.8003,-44.5 256.8003,-.5 45.4966,-.5\" stroke=\"#000000\"/>\n",
       "<text fill=\"#000000\" font-family=\"Times,serif\" font-size=\"14.00\" text-anchor=\"middle\" x=\"70.9897\" y=\"-18.3\">Dense</text>\n",
       "<polyline fill=\"none\" points=\"96.4829,-.5 96.4829,-44.5 \" stroke=\"#000000\"/>\n",
       "<text fill=\"#000000\" font-family=\"Times,serif\" font-size=\"14.00\" text-anchor=\"middle\" x=\"124.3174\" y=\"-29.3\">input:</text>\n",
       "<polyline fill=\"none\" points=\"96.4829,-22.5 152.1519,-22.5 \" stroke=\"#000000\"/>\n",
       "<text fill=\"#000000\" font-family=\"Times,serif\" font-size=\"14.00\" text-anchor=\"middle\" x=\"124.3174\" y=\"-7.3\">output:</text>\n",
       "<polyline fill=\"none\" points=\"152.1519,-.5 152.1519,-44.5 \" stroke=\"#000000\"/>\n",
       "<text fill=\"#000000\" font-family=\"Times,serif\" font-size=\"14.00\" text-anchor=\"middle\" x=\"204.4761\" y=\"-29.3\">(None, 1, 512)</text>\n",
       "<polyline fill=\"none\" points=\"152.1519,-22.5 256.8003,-22.5 \" stroke=\"#000000\"/>\n",
       "<text fill=\"#000000\" font-family=\"Times,serif\" font-size=\"14.00\" text-anchor=\"middle\" x=\"204.4761\" y=\"-7.3\">(None, 1, 1000)</text>\n",
       "</g>\n",
       "<!-- 4640568544&#45;&gt;4932725056 -->\n",
       "<g class=\"edge\" id=\"edge19\">\n",
       "<title>4640568544-&gt;4932725056</title>\n",
       "<path d=\"M151.1484,-81.3664C151.1484,-73.1516 151.1484,-63.6579 151.1484,-54.7252\" fill=\"none\" stroke=\"#000000\"/>\n",
       "<polygon fill=\"#000000\" points=\"154.6485,-54.6068 151.1484,-44.6068 147.6485,-54.6069 154.6485,-54.6068\" stroke=\"#000000\"/>\n",
       "</g>\n",
       "</g>\n",
       "</svg>"
      ],
      "text/plain": [
       "<IPython.core.display.SVG object>"
      ]
     },
     "execution_count": 7,
     "metadata": {},
     "output_type": "execute_result"
    }
   ],
   "source": [
    "SVG(model_to_dot(m_w_attn, show_layer_names=False, show_shapes=True).create(prog='dot', format='svg'))"
   ]
  },
  {
   "cell_type": "markdown",
   "metadata": {},
   "source": []
  },
  {
   "cell_type": "markdown",
   "metadata": {},
   "source": [
    "## Extensions\n",
    "\n",
    "The most logical extension for this project is to continue work on implementing the attention model begun in the \"Other Work\" section. All models on the leaderboard for the VQA challenge implement some form of attention. Once the basic form of attention was implemented, one could experiment with being smarter about the image regions considered for attention. Rather than looking at attention for a 7x7 square grid superimposed on the image, we could create an attention vector for a set of boxes that we know identify particular objects/regions of interest in the image. One might imagine taking the objects localized by a YOLO Model and using those as the inputs to the attention model. \n",
    "\n",
    "As part of the attention model development, it would be interesting to do better visualization of the model's performance. Specifically, we could look at what regions in the image were most useful to the network for answering the question. We could also visualize which words were the most important ones in the question. "
   ]
  },
  {
   "cell_type": "markdown",
   "metadata": {},
   "source": [
    "## Demo"
   ]
  },
  {
   "cell_type": "markdown",
   "metadata": {},
   "source": [
    "We show how our model can be extended to try arbitrary jpeg and question combinations. We load our best in class model for testing (VGG19 + soft cross entropy loss) and then call our function `test_vqa_model`. \n",
    "\n",
    "`test_vqa_model` takes a JPEG and string as inputs. It creates the question embedding (300x26; 300 element vector per word; 26 word long questions), and the 4096 JPEG embedding from VGG19. Then it feeds both of these to our best in class model, which we load below. "
   ]
  },
  {
   "cell_type": "code",
   "execution_count": null,
   "metadata": {},
   "outputs": [],
   "source": [
    "from demo import test_vqa_model\n",
    "from IPython.display import Image\n",
    "from keras.models import load_model\n",
    "from keras import backend as K\n",
    "import tensorflow as tf"
   ]
  },
  {
   "cell_type": "code",
   "execution_count": null,
   "metadata": {},
   "outputs": [],
   "source": [
    "def vqa_eval_accuracy(y_true, y_pred):\n",
    "    trues = K.clip(y_true, min_value=0, max_value=0.3) / 0.3\n",
    "    preds = K.argmax(y_pred, axis=-1)\n",
    "    return K.map_fn(gather, [trues, preds], dtype=tf.float32)\n",
    "\n",
    "def gather(x):\n",
    "    true, pred = x\n",
    "    return K.gather(true, pred)\n",
    "\n",
    "vqa_mod = load_model(\"../../finalized_models/model_ELEMULT_RELU_SOFTY_weights.h5\", custom_objects={'vqa_eval_accuracy': vqa_eval_accuracy})"
   ]
  },
  {
   "cell_type": "markdown",
   "metadata": {},
   "source": [
    "We picked a random [image](http://chinenyeugonna.com/2016/05/17/best-spots-for-pizza-in-lagos/) off the internet, but if you wanted to try out the model, just change the `my_sample_question` and `my_test_img` variables.  "
   ]
  },
  {
   "cell_type": "code",
   "execution_count": null,
   "metadata": {},
   "outputs": [],
   "source": [
    "my_sample_question = \"What is the man eating?\"\n",
    "my_test_img = \"./images_for_notebook/pizza_man.jpg\"\n",
    "\n",
    "Image(filename=my_test_img) "
   ]
  },
  {
   "cell_type": "code",
   "execution_count": null,
   "metadata": {},
   "outputs": [],
   "source": [
    "labels = test_vqa_model(my_sample_question, my_test_img, vqa_mod)"
   ]
  },
  {
   "cell_type": "markdown",
   "metadata": {},
   "source": [
    "## Contributions\n",
    "\n",
    "__Stephanie Dong:__ Stephanie worked on experiments comparing element-wise product, vector concatination, and multimodal compact bilinear pooling as the merge layer between image and question embeddings, including implementing a custom keras layer for compact bilinear pooling. In addition, she implemented label generation from question-image annotations to produce weighted labels for soft cross entropy loss. Lastly, she contributed to the project infrastucture, including plotting and saving training history over disjoint sessions, and the final project writeup.\n",
    "\n",
    "__Alona King:__\n",
    "\n",
    "__Jennifer Villa:__ Jennifer worked on the experiments contrasting concatenation with using the last LSTM hidden state for the question embeddings. She also generated the ResNet50 embeddings for the dataset images, and ran the experiments comparing ResNet50 image embeddings with those from VGG19. In addition, she implemented the attention model and generated the new set of ResNet50 embeddings required (from an earlier layer). Lastly, she contributed to the final project writeup, including developing the demo portion. "
   ]
  },
  {
   "cell_type": "code",
   "execution_count": null,
   "metadata": {},
   "outputs": [],
   "source": []
  }
 ],
 "metadata": {
  "kernelspec": {
   "display_name": "Python 3",
   "language": "python",
   "name": "python3"
  },
  "language_info": {
   "codemirror_mode": {
    "name": "ipython",
    "version": 3
   },
   "file_extension": ".py",
   "mimetype": "text/x-python",
   "name": "python",
   "nbconvert_exporter": "python",
   "pygments_lexer": "ipython3",
   "version": "3.6.3"
  }
 },
 "nbformat": 4,
 "nbformat_minor": 2
}
